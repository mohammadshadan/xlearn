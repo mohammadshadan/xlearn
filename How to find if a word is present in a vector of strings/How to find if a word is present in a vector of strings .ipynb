{
 "cells": [
  {
   "cell_type": "code",
   "execution_count": 1,
   "metadata": {},
   "outputs": [],
   "source": [
    "library(stringr)"
   ]
  },
  {
   "cell_type": "markdown",
   "metadata": {},
   "source": [
    "## Creating Scenario"
   ]
  },
  {
   "cell_type": "code",
   "execution_count": 2,
   "metadata": {},
   "outputs": [
    {
     "data": {
      "text/html": [
       "<ol class=list-inline>\n",
       "\t<li>'instance'</li>\n",
       "\t<li>'percentage'</li>\n",
       "\t<li>'n'</li>\n",
       "\t<li>'instance percentage'</li>\n",
       "\t<li>'percentage instance'</li>\n",
       "</ol>\n"
      ],
      "text/latex": [
       "\\begin{enumerate*}\n",
       "\\item 'instance'\n",
       "\\item 'percentage'\n",
       "\\item 'n'\n",
       "\\item 'instance percentage'\n",
       "\\item 'percentage instance'\n",
       "\\end{enumerate*}\n"
      ],
      "text/markdown": [
       "1. 'instance'\n",
       "2. 'percentage'\n",
       "3. 'n'\n",
       "4. 'instance percentage'\n",
       "5. 'percentage instance'\n",
       "\n",
       "\n"
      ],
      "text/plain": [
       "[1] \"instance\"            \"percentage\"          \"n\"                  \n",
       "[4] \"instance percentage\" \"percentage instance\""
      ]
     },
     "metadata": {},
     "output_type": "display_data"
    }
   ],
   "source": [
    "strings <- c(\"instance\", \n",
    "             \"percentage\", \n",
    "             \"n\", \n",
    "             \"instance percentage\", \n",
    "             \"percentage instance\")\n",
    "strings"
   ]
  },
  {
   "cell_type": "code",
   "execution_count": 8,
   "metadata": {},
   "outputs": [],
   "source": [
    "pattern = \"instance\""
   ]
  },
  {
   "cell_type": "code",
   "execution_count": 9,
   "metadata": {},
   "outputs": [
    {
     "data": {
      "text/html": [
       "<ol class=list-inline>\n",
       "\t<li>TRUE</li>\n",
       "\t<li>FALSE</li>\n",
       "\t<li>FALSE</li>\n",
       "\t<li>TRUE</li>\n",
       "\t<li>TRUE</li>\n",
       "</ol>\n"
      ],
      "text/latex": [
       "\\begin{enumerate*}\n",
       "\\item TRUE\n",
       "\\item FALSE\n",
       "\\item FALSE\n",
       "\\item TRUE\n",
       "\\item TRUE\n",
       "\\end{enumerate*}\n"
      ],
      "text/markdown": [
       "1. TRUE\n",
       "2. FALSE\n",
       "3. FALSE\n",
       "4. TRUE\n",
       "5. TRUE\n",
       "\n",
       "\n"
      ],
      "text/plain": [
       "[1]  TRUE FALSE FALSE  TRUE  TRUE"
      ]
     },
     "metadata": {},
     "output_type": "display_data"
    }
   ],
   "source": [
    "is_present = str_detect(strings, pattern)\n",
    "is_present"
   ]
  },
  {
   "cell_type": "code",
   "execution_count": 10,
   "metadata": {},
   "outputs": [
    {
     "data": {
      "text/html": [
       "<table>\n",
       "<thead><tr><th scope=col>strings</th><th scope=col>is_present</th></tr></thead>\n",
       "<tbody>\n",
       "\t<tr><td>instance           </td><td> TRUE              </td></tr>\n",
       "\t<tr><td>percentage         </td><td>FALSE              </td></tr>\n",
       "\t<tr><td>n                  </td><td>FALSE              </td></tr>\n",
       "\t<tr><td>instance percentage</td><td> TRUE              </td></tr>\n",
       "\t<tr><td>percentage instance</td><td> TRUE              </td></tr>\n",
       "</tbody>\n",
       "</table>\n"
      ],
      "text/latex": [
       "\\begin{tabular}{r|ll}\n",
       " strings & is\\_present\\\\\n",
       "\\hline\n",
       "\t instance            &  TRUE              \\\\\n",
       "\t percentage          & FALSE              \\\\\n",
       "\t n                   & FALSE              \\\\\n",
       "\t instance percentage &  TRUE              \\\\\n",
       "\t percentage instance &  TRUE              \\\\\n",
       "\\end{tabular}\n"
      ],
      "text/markdown": [
       "\n",
       "| strings | is_present |\n",
       "|---|---|\n",
       "| instance            |  TRUE               |\n",
       "| percentage          | FALSE               |\n",
       "| n                   | FALSE               |\n",
       "| instance percentage |  TRUE               |\n",
       "| percentage instance |  TRUE               |\n",
       "\n"
      ],
      "text/plain": [
       "  strings             is_present\n",
       "1 instance             TRUE     \n",
       "2 percentage          FALSE     \n",
       "3 n                   FALSE     \n",
       "4 instance percentage  TRUE     \n",
       "5 percentage instance  TRUE     "
      ]
     },
     "metadata": {},
     "output_type": "display_data"
    }
   ],
   "source": [
    "data.frame(strings, is_present)"
   ]
  },
  {
   "cell_type": "code",
   "execution_count": null,
   "metadata": {},
   "outputs": [],
   "source": []
  }
 ],
 "metadata": {
  "kernelspec": {
   "display_name": "R",
   "language": "R",
   "name": "ir"
  },
  "language_info": {
   "codemirror_mode": "r",
   "file_extension": ".r",
   "mimetype": "text/x-r-source",
   "name": "R",
   "pygments_lexer": "r",
   "version": "3.6.1"
  },
  "toc": {
   "base_numbering": 1,
   "nav_menu": {},
   "number_sections": false,
   "sideBar": true,
   "skip_h1_title": false,
   "title_cell": "Table of Contents",
   "title_sidebar": "Contents",
   "toc_cell": false,
   "toc_position": {
    "height": "calc(100% - 180px)",
    "left": "10px",
    "top": "150px",
    "width": "165px"
   },
   "toc_section_display": true,
   "toc_window_display": true
  }
 },
 "nbformat": 4,
 "nbformat_minor": 2
}
