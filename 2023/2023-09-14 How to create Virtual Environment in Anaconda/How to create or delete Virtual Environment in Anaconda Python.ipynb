{
 "cells": [
  {
   "cell_type": "markdown",
   "metadata": {},
   "source": [
    "## How to create a Virtual Environment in Anaconda on Windows ?"
   ]
  },
  {
   "cell_type": "markdown",
   "metadata": {},
   "source": [
    "### Step 1 : Create a new conda environment where we will install our modules to built our models\n",
    "\n",
    "Step 1.1: Open Anaconda Prompt (Run as Administrator)\n",
    "- `conda create --name env_deeplearning` \n",
    "\n",
    "Step 1.2: Activate the conda environment that we just created use\n",
    " - `activate env_deeplearning`\n",
    " \n",
    "### Step 2: Install Libraries\n",
    "\n",
    "Install one library at a time\n",
    "- `pip install langchain`\n",
    "- `pip install pandas`\n",
    "- `pip install matplotlib`\n",
    "\n",
    "Or install libraries through requirement.txt\n",
    "- `pip install -r requirements.txt`\n",
    "\n",
    "\n",
    "### Step 3: Uninstall Libraries from Anaconda python\n",
    "- `pip uninstall pandas`\n",
    "- `pip uninstall langchain`"
   ]
  },
  {
   "cell_type": "markdown",
   "metadata": {},
   "source": [
    "#### Step 4: Completely delete the virtual environment we just created\n",
    " - `conda remove --name env_deeplearning --all`"
   ]
  },
  {
   "cell_type": "markdown",
   "metadata": {},
   "source": [
    "### How to install Langchain in Anaconda Python ?\n",
    "\n",
    "Install the latest version of Library\n",
    "- 'pip install langchain'\n",
    "\n",
    "Unisntall the installed version of library\n",
    "- `pip uninstall langchain`\n",
    "\n",
    "Install other version of library\n",
    "- `pip install langchain==0.0.191`"
   ]
  },
  {
   "cell_type": "markdown",
   "metadata": {},
   "source": [
    "Installing specific version of `Python` and `Tensorflow`\n",
    "\n",
    "Using conda:\n",
    "- `conda create --name env_deeplearning python=3.8.5`\n",
    "- `conda install tensorflow==2.5.0`\n",
    "- `conda install -c conda-forge tensorflow==2.5.0`\n",
    "\n",
    "Using pip:\n",
    "- `conda create --name env_deeplearning python=3.8.5`\n",
    "- `pip install tensorflow=2.5.0`\n",
    "- `pip install jupyter`\n"
   ]
  },
  {
   "cell_type": "markdown",
   "metadata": {},
   "source": [
    "Reference Links:  \n",
    "- https://anaconda.org/conda-forge/tensorflow\n",
    "- https://anaconda.org/anaconda/jupyter\n",
    "- https://anaconda.org/anaconda/pandas\n",
    "- https://anaconda.org/conda-forge/matplotlib\n",
    "- https://anaconda.org/anaconda/scikit-learn\n",
    "    \n",
    "- https://conda.io/projects/conda/en/latest/user-guide/tasks/manage-environments.html\n",
    "- https://www.gcptutorials.com/post/how-to-install-latest-tensorflow-version-using-pip-and-conda"
   ]
  },
  {
   "cell_type": "markdown",
   "metadata": {},
   "source": [
    "## Thank You"
   ]
  }
 ],
 "metadata": {
  "kernelspec": {
   "display_name": "Python 3 (ipykernel)",
   "language": "python",
   "name": "python3"
  },
  "language_info": {
   "codemirror_mode": {
    "name": "ipython",
    "version": 3
   },
   "file_extension": ".py",
   "mimetype": "text/x-python",
   "name": "python",
   "nbconvert_exporter": "python",
   "pygments_lexer": "ipython3",
   "version": "3.9.7"
  },
  "toc": {
   "base_numbering": 1,
   "nav_menu": {},
   "number_sections": false,
   "sideBar": true,
   "skip_h1_title": false,
   "title_cell": "Table of Contents",
   "title_sidebar": "Contents",
   "toc_cell": false,
   "toc_position": {},
   "toc_section_display": true,
   "toc_window_display": false
  }
 },
 "nbformat": 4,
 "nbformat_minor": 2
}
