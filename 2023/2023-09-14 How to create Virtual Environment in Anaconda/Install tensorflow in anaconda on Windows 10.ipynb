{
 "cells": [
  {
   "cell_type": "markdown",
   "metadata": {},
   "source": [
    "## How to create a Virtual Environment in Anaconda/Miniconda ?"
   ]
  },
  {
   "cell_type": "markdown",
   "metadata": {},
   "source": [
    "### Step 1: Create a new conda environment where we will install our modules to built our models\n",
    "\n",
    "Step 1.1: Open Anaconda Prompt (Run as Administrator)\n",
    "- `conda create --name generativeai python=3.10.11` \n",
    "\n",
    "Step 1.2: Activate the conda environment that we just created use\n",
    " - `activate generativeai`\n",
    " \n",
    "### Step 2: Install Required libraries\n",
    "\n",
    "Install Libraries one by one\n",
    "- `pip install langchain`\n",
    "- `pip install pandas`\n",
    "- `pip install matplotlib`\n",
    "\n",
    "Or install through requirements.txt\n",
    "\n",
    " - `pip install -r requirements.txt`"
   ]
  },
  {
   "cell_type": "markdown",
   "metadata": {},
   "source": [
    "Uninstall or remove packages from Virtual Environment\n",
    "\n",
    "- `pip uninstall pandas`"
   ]
  },
  {
   "cell_type": "markdown",
   "metadata": {},
   "source": [
    "## How to delete a Virtual Environment in Anaconda/Miniconda"
   ]
  },
  {
   "cell_type": "markdown",
   "metadata": {},
   "source": [
    "or some reason, if you want to completely delete the virtual environment we just created\n",
    " - `conda remove --name generativeai --all`"
   ]
  },
  {
   "cell_type": "markdown",
   "metadata": {},
   "source": [
    "## How to Install Langchain Library in Anaconda Python \n",
    "\n",
    "Install the Latest Version of Library\n",
    "- `pip install langchain`\n",
    "\n",
    "Uninstall the Library\n",
    "- `pip uninstall langchain`\n",
    "\n",
    "Install older version of library\n",
    "- `pip install langchain==0.0.191`"
   ]
  },
  {
   "cell_type": "markdown",
   "metadata": {},
   "source": [
    "Reference Links:  \n",
    "- https://www.activestate.com/resources/quick-reads/how-to-uninstall-python-packages/\n",
    "- https://anaconda.org/conda-forge/tensorflow\n",
    "- https://anaconda.org/anaconda/jupyter\n",
    "- https://anaconda.org/anaconda/pandas\n",
    "- https://anaconda.org/conda-forge/matplotlib\n",
    "- https://anaconda.org/anaconda/scikit-learn\n",
    "    \n",
    "- https://conda.io/projects/conda/en/latest/user-guide/tasks/manage-environments.html\n",
    "- https://www.gcptutorials.com/post/how-to-install-latest-tensorflow-version-using-pip-and-conda\n"
   ]
  },
  {
   "cell_type": "markdown",
   "metadata": {},
   "source": [
    "## Thank You"
   ]
  }
 ],
 "metadata": {
  "kernelspec": {
   "display_name": "Python 3 (ipykernel)",
   "language": "python",
   "name": "python3"
  },
  "language_info": {
   "codemirror_mode": {
    "name": "ipython",
    "version": 3
   },
   "file_extension": ".py",
   "mimetype": "text/x-python",
   "name": "python",
   "nbconvert_exporter": "python",
   "pygments_lexer": "ipython3",
   "version": "3.9.7"
  },
  "toc": {
   "base_numbering": 1,
   "nav_menu": {},
   "number_sections": false,
   "sideBar": true,
   "skip_h1_title": false,
   "title_cell": "Table of Contents",
   "title_sidebar": "Contents",
   "toc_cell": false,
   "toc_position": {},
   "toc_section_display": true,
   "toc_window_display": false
  }
 },
 "nbformat": 4,
 "nbformat_minor": 2
}
