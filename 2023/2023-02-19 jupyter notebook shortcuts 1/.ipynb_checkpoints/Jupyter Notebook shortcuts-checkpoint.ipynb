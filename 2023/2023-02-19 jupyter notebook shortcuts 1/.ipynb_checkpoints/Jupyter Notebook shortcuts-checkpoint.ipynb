{
 "cells": [
  {
   "cell_type": "markdown",
   "id": "2edfb567",
   "metadata": {},
   "source": [
    "## Jupyter Notebook Shortcuts \n",
    "1. Add a cell `below` the current cell\n",
    "2. Add a cell `above` the current cell\n",
    "3. `Delete` the current cell \n",
    "4. `Undo Delele` to bring back the deleted cell\n",
    "5. `Merge` Mulitple cells into one cell"
   ]
  },
  {
   "cell_type": "markdown",
   "id": "b052450c",
   "metadata": {},
   "source": [
    "### 1. Add a cell `below` the current cell"
   ]
  },
  {
   "cell_type": "code",
   "execution_count": null,
   "id": "9ed55c44",
   "metadata": {},
   "outputs": [],
   "source": [
    "from sklearn.cluster import KMeans"
   ]
  },
  {
   "cell_type": "code",
   "execution_count": null,
   "id": "090cd02b",
   "metadata": {},
   "outputs": [],
   "source": [
    "from sklearn.linear_model import LinearRegression"
   ]
  },
  {
   "cell_type": "code",
   "execution_count": null,
   "id": "759c47f1",
   "metadata": {},
   "outputs": [],
   "source": [
    "from sklearn.linear_model import LogisticRegression"
   ]
  },
  {
   "cell_type": "markdown",
   "id": "ca8b1c9e",
   "metadata": {},
   "source": [
    "### 2. Add a cell `above` the current cell"
   ]
  },
  {
   "cell_type": "code",
   "execution_count": null,
   "id": "0aff760b",
   "metadata": {},
   "outputs": [],
   "source": [
    "import numpy as np\n",
    "import pandas as pd"
   ]
  },
  {
   "cell_type": "code",
   "execution_count": null,
   "id": "84092acd",
   "metadata": {},
   "outputs": [],
   "source": [
    "from sklearn.cluster import kmeans"
   ]
  },
  {
   "cell_type": "code",
   "execution_count": null,
   "id": "5e9c2fda",
   "metadata": {},
   "outputs": [],
   "source": [
    "from sklearn.linear_model import LinearRegression"
   ]
  },
  {
   "cell_type": "code",
   "execution_count": null,
   "id": "9905da75",
   "metadata": {},
   "outputs": [],
   "source": [
    "from sklearn.linear_model import LogisticRegression"
   ]
  },
  {
   "cell_type": "markdown",
   "id": "4fc17a0e",
   "metadata": {},
   "source": [
    "### 3. `Delete` the current cell "
   ]
  },
  {
   "cell_type": "code",
   "execution_count": null,
   "id": "25072fab",
   "metadata": {},
   "outputs": [],
   "source": [
    "import numpy as np\n",
    "import pandas as pd"
   ]
  },
  {
   "cell_type": "code",
   "execution_count": null,
   "id": "103be005",
   "metadata": {},
   "outputs": [],
   "source": [
    "from sklearn.cluster import kmeans"
   ]
  },
  {
   "cell_type": "code",
   "execution_count": null,
   "id": "911257ae",
   "metadata": {},
   "outputs": [],
   "source": [
    "from sklearn.linear_model import LinearRegression"
   ]
  },
  {
   "cell_type": "code",
   "execution_count": null,
   "id": "b2074daf",
   "metadata": {},
   "outputs": [],
   "source": [
    "from sklearn.linear_model import LogisticRegression"
   ]
  },
  {
   "cell_type": "markdown",
   "id": "cbfe00da",
   "metadata": {},
   "source": [
    "### 4. `Undo Delele` (bring back the deleted cell)"
   ]
  },
  {
   "cell_type": "code",
   "execution_count": null,
   "id": "8c7b1d11",
   "metadata": {},
   "outputs": [],
   "source": [
    "import numpy as np\n",
    "import pandas as pd"
   ]
  },
  {
   "cell_type": "code",
   "execution_count": null,
   "id": "047052de",
   "metadata": {},
   "outputs": [],
   "source": [
    "from sklearn.cluster import kmeans"
   ]
  },
  {
   "cell_type": "code",
   "execution_count": null,
   "id": "37935d27",
   "metadata": {},
   "outputs": [],
   "source": [
    "from sklearn.linear_model import LinearRegression"
   ]
  },
  {
   "cell_type": "code",
   "execution_count": null,
   "id": "fbcc4552",
   "metadata": {},
   "outputs": [],
   "source": [
    "from sklearn.linear_model import LogisticRegression"
   ]
  },
  {
   "cell_type": "markdown",
   "id": "950a0ace",
   "metadata": {},
   "source": [
    "It's possible that you have deleted the cell by mistake. \n",
    "If you want to bring back the cell you just deleted, press `esc` key and the press `y` key\n",
    " - Press `esc` + `y`"
   ]
  },
  {
   "cell_type": "markdown",
   "id": "69667389",
   "metadata": {},
   "source": [
    "### 5. `Merge` Mulitple cells into one cell"
   ]
  },
  {
   "cell_type": "code",
   "execution_count": null,
   "id": "23ed410a",
   "metadata": {},
   "outputs": [],
   "source": [
    "import numpy as np\n",
    "import pandas as pd"
   ]
  },
  {
   "cell_type": "code",
   "execution_count": null,
   "id": "6a33f28c",
   "metadata": {},
   "outputs": [],
   "source": [
    "from sklearn.cluster import kmeans"
   ]
  },
  {
   "cell_type": "code",
   "execution_count": null,
   "id": "25fd949b",
   "metadata": {},
   "outputs": [],
   "source": [
    "from sklearn.linear_model import LinearRegression"
   ]
  },
  {
   "cell_type": "code",
   "execution_count": null,
   "id": "9dbe508f",
   "metadata": {},
   "outputs": [],
   "source": [
    "from sklearn.linear_model import LogisticRegression"
   ]
  },
  {
   "cell_type": "code",
   "execution_count": null,
   "id": "2c2b3241",
   "metadata": {},
   "outputs": [],
   "source": [
    "from sklearn.linear_model import LogisticRegression"
   ]
  },
  {
   "cell_type": "markdown",
   "id": "cba004c7",
   "metadata": {},
   "source": [
    "If you want to combine multiple consicutive cells in a jupyter notebook then, \n",
    "- first select the consicutive cells by pressing `SHIFT` Key and selecting the cells\n",
    "- Press `SHIFT` + `m` key"
   ]
  },
  {
   "cell_type": "markdown",
   "id": "e0f9873c",
   "metadata": {},
   "source": [
    "### Summary \n",
    "1. Add a cell `below` the current cell (`esc + b`)\n",
    "2. Add a cell `above` the current cell (`esc + a`)\n",
    "3. `Delete` the current cell (`esc + dd`)\n",
    "4. `Undo Delele` to bring back the deleted cell (`esc + y`)\n",
    "5. `Merge` Mulitple cells into one cell (`shift + M`)\n",
    "    - In VS Code, Alt + Shift + J"
   ]
  }
 ],
 "metadata": {
  "kernelspec": {
   "display_name": "Python 3 (ipykernel)",
   "language": "python",
   "name": "python3"
  },
  "language_info": {
   "codemirror_mode": {
    "name": "ipython",
    "version": 3
   },
   "file_extension": ".py",
   "mimetype": "text/x-python",
   "name": "python",
   "nbconvert_exporter": "python",
   "pygments_lexer": "ipython3",
   "version": "3.8.15"
  }
 },
 "nbformat": 4,
 "nbformat_minor": 5
}
