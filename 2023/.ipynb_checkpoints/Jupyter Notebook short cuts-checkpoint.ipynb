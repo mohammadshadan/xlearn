{
 "cells": [
  {
   "cell_type": "markdown",
   "id": "3b62cce6",
   "metadata": {},
   "source": [
    "## Jupyter Notebook Shortcuts \n",
    "1. Add a cell `below` the current cell\n",
    "2. Add a cell `above` the current cell\n",
    "3. `Delete` the current cell \n",
    "4. `Undo Delele`, bring back the deleted cell\n",
    "5. `Merge` Mulitple cells into one cell"
   ]
  },
  {
   "cell_type": "markdown",
   "id": "cc56b4bc",
   "metadata": {},
   "source": [
    "### 1. Add a cell `below` the current cell"
   ]
  },
  {
   "cell_type": "code",
   "execution_count": null,
   "id": "1d957f3f",
   "metadata": {},
   "outputs": [],
   "source": [
    "import numpy as np\n",
    "import pandas as pd"
   ]
  },
  {
   "cell_type": "code",
   "execution_count": null,
   "id": "93e54ab6",
   "metadata": {},
   "outputs": [],
   "source": [
    "from sklearn.cluster import KMeans"
   ]
  },
  {
   "cell_type": "code",
   "execution_count": null,
   "id": "0b0f965e",
   "metadata": {},
   "outputs": [],
   "source": [
    "from sklearn.linear_model import LinearRegression"
   ]
  },
  {
   "cell_type": "code",
   "execution_count": null,
   "id": "e83a8f25",
   "metadata": {},
   "outputs": [],
   "source": [
    "from sklearn.linear_model import LogisticRegression"
   ]
  },
  {
   "cell_type": "markdown",
   "id": "e73a2551",
   "metadata": {},
   "source": [
    "### 2. Add a cell `above` the current cell"
   ]
  },
  {
   "cell_type": "code",
   "execution_count": null,
   "id": "38825459",
   "metadata": {},
   "outputs": [],
   "source": [
    "import numpy as np\n",
    "import pandas as pd"
   ]
  },
  {
   "cell_type": "code",
   "execution_count": null,
   "id": "7289534e",
   "metadata": {},
   "outputs": [],
   "source": [
    "from sklearn.cluster import kmeans"
   ]
  },
  {
   "cell_type": "code",
   "execution_count": null,
   "id": "452e2bd6",
   "metadata": {},
   "outputs": [],
   "source": [
    "from sklearn.linear_model import LinearRegression"
   ]
  },
  {
   "cell_type": "code",
   "execution_count": null,
   "id": "138d37c8",
   "metadata": {},
   "outputs": [],
   "source": [
    "from sklearn.linear_model import LogisticRegression"
   ]
  },
  {
   "cell_type": "markdown",
   "id": "0f47dbf2",
   "metadata": {},
   "source": [
    "### 3. `Delete` the current cell "
   ]
  },
  {
   "cell_type": "code",
   "execution_count": null,
   "id": "e6a3edef",
   "metadata": {},
   "outputs": [],
   "source": [
    "import numpy as np\n",
    "import pandas as pd"
   ]
  },
  {
   "cell_type": "code",
   "execution_count": null,
   "id": "ff3621ed",
   "metadata": {},
   "outputs": [],
   "source": [
    "from sklearn.cluster import kmeans"
   ]
  },
  {
   "cell_type": "code",
   "execution_count": null,
   "id": "08bc11ff",
   "metadata": {},
   "outputs": [],
   "source": [
    "from sklearn.linear_model import LinearRegression"
   ]
  },
  {
   "cell_type": "code",
   "execution_count": null,
   "id": "de53891c",
   "metadata": {},
   "outputs": [],
   "source": [
    "from sklearn.linear_model import LogisticRegression"
   ]
  },
  {
   "cell_type": "markdown",
   "id": "0bb1b818",
   "metadata": {},
   "source": [
    "### 4. `Undo Delele` (bring back the deleted cell)"
   ]
  },
  {
   "cell_type": "code",
   "execution_count": null,
   "id": "b56bc5c1",
   "metadata": {},
   "outputs": [],
   "source": [
    "import numpy as np\n",
    "import pandas as pd"
   ]
  },
  {
   "cell_type": "code",
   "execution_count": null,
   "id": "4f101667",
   "metadata": {},
   "outputs": [],
   "source": [
    "from sklearn.cluster import kmeans"
   ]
  },
  {
   "cell_type": "code",
   "execution_count": null,
   "id": "2fb0a438",
   "metadata": {},
   "outputs": [],
   "source": [
    "from sklearn.linear_model import LinearRegression"
   ]
  },
  {
   "cell_type": "code",
   "execution_count": null,
   "id": "70d1ef00",
   "metadata": {},
   "outputs": [],
   "source": [
    "from sklearn.linear_model import LogisticRegression"
   ]
  },
  {
   "cell_type": "markdown",
   "id": "6d8f7493",
   "metadata": {},
   "source": [
    "### 5. `Merge` Mulitple cells into one cell"
   ]
  },
  {
   "cell_type": "code",
   "execution_count": null,
   "id": "5038c37b",
   "metadata": {},
   "outputs": [],
   "source": [
    "import numpy as np\n",
    "import pandas as pd"
   ]
  },
  {
   "cell_type": "code",
   "execution_count": null,
   "id": "bde93e90",
   "metadata": {},
   "outputs": [],
   "source": [
    "from sklearn.cluster import kmeans"
   ]
  },
  {
   "cell_type": "code",
   "execution_count": null,
   "id": "675ad849",
   "metadata": {},
   "outputs": [],
   "source": [
    "from sklearn.linear_model import LinearRegression"
   ]
  },
  {
   "cell_type": "code",
   "execution_count": null,
   "id": "9bcde166",
   "metadata": {},
   "outputs": [],
   "source": [
    "from sklearn.linear_model import LogisticRegression"
   ]
  },
  {
   "cell_type": "markdown",
   "id": "2627012a",
   "metadata": {},
   "source": [
    "### Summary \n",
    "1. Add a cell `below` the current cell (`esc + B`)\n",
    "2. Add a cell `above` the current cell (`esc + A`)\n",
    "3. `Delete` the current cell (`esc + DD`)\n",
    "4. `Undo Delele`, bring back the deleted cell (`esc + Y`)\n",
    "5. `Merge` Mulitple cells into one cell (`shift + M`)\n",
    "    - In VS Code, Alt + Shift + J"
   ]
  },
  {
   "cell_type": "code",
   "execution_count": null,
   "id": "cefda706",
   "metadata": {},
   "outputs": [],
   "source": []
  }
 ],
 "metadata": {
  "kernelspec": {
   "display_name": "Python 3 (ipykernel)",
   "language": "python",
   "name": "python3"
  },
  "language_info": {
   "codemirror_mode": {
    "name": "ipython",
    "version": 3
   },
   "file_extension": ".py",
   "mimetype": "text/x-python",
   "name": "python",
   "nbconvert_exporter": "python",
   "pygments_lexer": "ipython3",
   "version": "3.8.15"
  }
 },
 "nbformat": 4,
 "nbformat_minor": 5
}
