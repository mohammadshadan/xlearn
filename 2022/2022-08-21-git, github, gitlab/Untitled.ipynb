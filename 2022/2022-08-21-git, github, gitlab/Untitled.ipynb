{
 "cells": [
  {
   "cell_type": "markdown",
   "id": "c3fa7d33",
   "metadata": {},
   "source": [
    "# Git, Github, Gitlab"
   ]
  },
  {
   "cell_type": "code",
   "execution_count": null,
   "id": "f1101650",
   "metadata": {},
   "outputs": [],
   "source": [
    "git status\n",
    "git log"
   ]
  },
  {
   "cell_type": "markdown",
   "id": "aead084c",
   "metadata": {},
   "source": [
    "`git add .`\n",
    "\n",
    "`git commit -m \"changed the function\"`\n",
    "\n",
    "#### Branch\n",
    "- `git branch` # Check the current branch\n",
    "- `git branch dev`    # Create a new branch\n",
    "- `git checkout dev`  # Enter the branch you created\n",
    "\n",
    "- `git checkout -b anuj/multiply` # create and enter into a branch\n",
    "- `git status`\n",
    "- `git add Multiply.java`\n",
    "- `git commit -m \"added Multiply.java`\n",
    "\n",
    "#### Merge\n",
    "- `git checkout dev`          # Enter into the dev branch\n",
    "- `git merge anuj/multiply`   # Merges the branch anuj/multiply into the dev branch"
   ]
  },
  {
   "cell_type": "code",
   "execution_count": null,
   "id": "e6944c79",
   "metadata": {},
   "outputs": [],
   "source": [
    "git remote -v\n",
    "git remote add origin https://github.com/Anuj-Kumar-Sharma/Lets-Learn-Git.git\n",
    "git remote -v\n",
    "git branch -M master\n",
    "git push -u origin master\n"
   ]
  },
  {
   "cell_type": "markdown",
   "id": "38060a47",
   "metadata": {},
   "source": [
    "## Branch"
   ]
  },
  {
   "cell_type": "markdown",
   "id": "36ecbaa7",
   "metadata": {},
   "source": [
    "Reference Links:\n",
    "- [Learn complete Git and Github in 1 video | Open-source Contribution | Linux commands & tricks](https://www.youtube.com/watch?v=uaeKhfhYE0U)"
   ]
  },
  {
   "cell_type": "code",
   "execution_count": null,
   "id": "b74dbf1f",
   "metadata": {},
   "outputs": [],
   "source": []
  },
  {
   "cell_type": "code",
   "execution_count": null,
   "id": "d500a410",
   "metadata": {},
   "outputs": [],
   "source": []
  },
  {
   "cell_type": "code",
   "execution_count": null,
   "id": "c6a8d0a0",
   "metadata": {},
   "outputs": [],
   "source": []
  },
  {
   "cell_type": "code",
   "execution_count": null,
   "id": "99d8b5d2",
   "metadata": {},
   "outputs": [],
   "source": []
  },
  {
   "cell_type": "markdown",
   "id": "654114e9",
   "metadata": {},
   "source": [
    "Refrences:\n",
    "- [Learn complete Git and Github in 1 video | Open-source Contribution | Linux commands & tricks](https://www.youtube.com/watch?v=uaeKhfhYE0U)\n",
    "- [Complete Git and GitHub Tutorials - Kunal Kushwaha](https://www.youtube.com/watch?v=apGV9Kg7ics)"
   ]
  },
  {
   "cell_type": "code",
   "execution_count": null,
   "id": "ee44cdc2",
   "metadata": {},
   "outputs": [],
   "source": []
  }
 ],
 "metadata": {
  "kernelspec": {
   "display_name": "Python 3 (ipykernel)",
   "language": "python",
   "name": "python3"
  },
  "language_info": {
   "codemirror_mode": {
    "name": "ipython",
    "version": 3
   },
   "file_extension": ".py",
   "mimetype": "text/x-python",
   "name": "python",
   "nbconvert_exporter": "python",
   "pygments_lexer": "ipython3",
   "version": "3.9.7"
  },
  "toc": {
   "base_numbering": 1,
   "nav_menu": {},
   "number_sections": false,
   "sideBar": true,
   "skip_h1_title": false,
   "title_cell": "Table of Contents",
   "title_sidebar": "Contents",
   "toc_cell": false,
   "toc_position": {
    "height": "calc(100% - 180px)",
    "left": "10px",
    "top": "150px",
    "width": "215.837px"
   },
   "toc_section_display": true,
   "toc_window_display": false
  }
 },
 "nbformat": 4,
 "nbformat_minor": 5
}
