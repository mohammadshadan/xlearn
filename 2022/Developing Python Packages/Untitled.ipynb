{
 "cells": [
  {
   "cell_type": "code",
   "execution_count": null,
   "id": "2852d447",
   "metadata": {},
   "outputs": [],
   "source": []
  },
  {
   "cell_type": "markdown",
   "id": "37d8c29f",
   "metadata": {},
   "source": [
    "## 1. From Loose Code to Local Package\n",
    "\n",
    "Get your package started by converting scripts you have already written. You'll create a simple package which you can use on your own computer.\n",
    "\n"
   ]
  },
  {
   "cell_type": "code",
   "execution_count": null,
   "id": "087fb192",
   "metadata": {},
   "outputs": [],
   "source": []
  },
  {
   "cell_type": "code",
   "execution_count": null,
   "id": "f888b248",
   "metadata": {},
   "outputs": [],
   "source": [
    "## app.py\n",
    "\"\"\"User-facing functions.\"\"\"\n",
    "from impyrial.length.core import (\n",
    "    inches_to_feet,\n",
    "    inches_to_yards,\n",
    "    UNITS\n",
    ")\n",
    "\n",
    "\n",
    "def convert_unit(x, from_unit, to_unit):\n",
    "    \"\"\"Convert from one length unit to another.\n",
    "\n",
    "    Parameters\n",
    "    ----------\n",
    "    x : array_like\n",
    "        Lengths to convert.\n",
    "    from_unit : {'in', 'ft', 'yd'}\n",
    "        Unit of the input lengths `x`\n",
    "    to_unit : {'in', 'ft', 'yd'}\n",
    "        Unit of the returned lengths\n",
    "\n",
    "    Returns\n",
    "    -------\n",
    "    ndarray\n",
    "        An array of converted lengths with the same shape as `x`. If `x` is a\n",
    "        0-d array, then a scalar is returned.\n",
    "    \"\"\"\n",
    "    # Convert length to inches\n",
    "    if from_unit == \"in\":\n",
    "        inches = x\n",
    "    elif from_unit == \"ft\":\n",
    "        inches = inches_to_feet(x, reverse=True)\n",
    "    elif from_unit == \"yd\":\n",
    "        inches = inches_to_yards(x, reverse=True)\n",
    "\n",
    "    # Convert inches to desired units\n",
    "    if to_unit == \"in\":\n",
    "        value = inches\n",
    "    elif to_unit == \"ft\":\n",
    "        value = inches_to_feet(inches)\n",
    "    elif to_unit == \"yd\":\n",
    "        value = inches_to_yards(inches)\n",
    "\n",
    "    return value\n"
   ]
  },
  {
   "cell_type": "code",
   "execution_count": null,
   "id": "add89018",
   "metadata": {},
   "outputs": [],
   "source": [
    "## core.py\n",
    "\n",
    "\"\"\"Conversions between inches and larger imperial length units\"\"\"\n",
    "INCHES_PER_FOOT = 12.0  # 12 inches in a foot\n",
    "INCHES_PER_YARD = INCHES_PER_FOOT * 3.0  # 3 feet in a yard\n",
    "\n",
    "UNITS = (\"in\", \"ft\", \"yd\")\n",
    "\n",
    "\n",
    "def inches_to_feet(x, reverse=False):\n",
    "    \"\"\"Convert lengths between inches and feet.\n",
    "\n",
    "    Parameters\n",
    "    ----------\n",
    "    x : array_like\n",
    "        Lengths in feet.\n",
    "    reverse : bool, optional\n",
    "        If this is set to true this function converts from feet to inches\n",
    "        instead of the default behaviour of inches to feet.\n",
    "\n",
    "    Returns\n",
    "    -------\n",
    "    ndarray\n",
    "        An array of converted lengths with the same shape as `x`. If `x` is a\n",
    "        0-d array, then a scalar is returned.\n",
    "    \"\"\"\n",
    "    if reverse:\n",
    "        return x * INCHES_PER_FOOT\n",
    "    else:\n",
    "        return x / INCHES_PER_FOOT\n",
    "\n",
    "\n",
    "def inches_to_yards(x, reverse=False):\n",
    "    \"\"\"Convert lengths between inches and yards.\n",
    "\n",
    "    Parameters\n",
    "    ----------\n",
    "    x : array_like\n",
    "        Lengths in feet.\n",
    "    reverse : bool, optional\n",
    "        If this is set to true this function converts from yards to inches\n",
    "        instead of the default behaviour of inches to yards.\n",
    "\n",
    "    Returns\n",
    "    -------\n",
    "    ndarray\n",
    "        An array of converted lengths with the same shape as `x`. If `x` is a\n",
    "        0-d array, then a scalar is returned.\n",
    "    \"\"\"\n",
    "    if reverse:\n",
    "        return x * INCHES_PER_YARD\n",
    "    else:`\n",
    "        return x / INCHES_PER_YARD\n",
    "\n"
   ]
  },
  {
   "cell_type": "code",
   "execution_count": null,
   "id": "3eb234c8",
   "metadata": {},
   "outputs": [],
   "source": [
    "## example_script.py\n",
    "\n",
    "from impyrial.length.api import convert_unit\n",
    "\n",
    "result = convert_unit(10, 'in', 'yd')\n",
    "print(result)\n"
   ]
  },
  {
   "cell_type": "markdown",
   "id": "723c9e8d",
   "metadata": {},
   "source": [
    "Great work! You've got the core module and the api module working together nicely. Have a look at the absolute import in the api module again. What would the equivalent relative import have been? Which import type do you prefer here?"
   ]
  },
  {
   "cell_type": "code",
   "execution_count": null,
   "id": "309ae023",
   "metadata": {},
   "outputs": [],
   "source": []
  },
  {
   "cell_type": "code",
   "execution_count": null,
   "id": "0d8daadb",
   "metadata": {},
   "outputs": [],
   "source": [
    "## app.py\n",
    "\n",
    "\"\"\"User-facing functions.\"\"\"\n",
    "# Import the check_units function\n",
    "from impyrial.utils import check_units\n",
    "from impyrial.length.core import (\n",
    "    UNITS,\n",
    "    inches_to_feet,\n",
    "    inches_to_yards,\n",
    ")\n",
    "\n",
    "\n",
    "def convert_unit(x, from_unit, to_unit):\n",
    "    \"\"\"Convert from one length unit to another.\n",
    "\n",
    "    Parameters\n",
    "    ----------\n",
    "    x : array_like\n",
    "        Lengths to convert.\n",
    "    from_unit : {'in', 'ft', 'yd'}\n",
    "        Unit of the input lengths `x`\n",
    "    to_unit : {'in', 'ft', 'yd'}\n",
    "        Unit of the returned lengths\n",
    "\n",
    "    Returns\n",
    "    -------\n",
    "    ndarray\n",
    "        An array of converted lengths with the same shape as `x`. If `x` is a\n",
    "        0-d array, then a scalar is returned.\n",
    "    \"\"\"\n",
    "    # Check if units are valid length units\n",
    "    check_units(from_unit, to_unit, UNITS)\n",
    "    \n",
    "    # convert length to inches\n",
    "    if from_unit == \"in\":\n",
    "        inches = x\n",
    "    elif from_unit == \"ft\":\n",
    "        inches = inches_to_feet(x, reverse=True)\n",
    "    elif from_unit == \"yd\":\n",
    "        inches = inches_to_yards(x, reverse=True)\n",
    "\n",
    "    # Convert inches to desired units\n",
    "    if to_unit == \"in\":\n",
    "        value = inches\n",
    "    elif to_unit == \"ft\":\n",
    "        value = inches_to_feet(inches)\n",
    "    elif to_unit == \"yd\":\n",
    "        value = inches_to_yards(inches)\n",
    "\n",
    "    return value\n"
   ]
  },
  {
   "cell_type": "markdown",
   "id": "e8c65933",
   "metadata": {},
   "source": [
    "Cool! Here, the relative import would have been a little complicated since you are importing from a file in the directory above."
   ]
  },
  {
   "cell_type": "markdown",
   "id": "c4cac54b",
   "metadata": {},
   "source": [
    "Exposing functions to users\n",
    "Now that your impyrial package has some useful code and is properly organized, it is time to use import structures to expose the functions to users.\n",
    "\n",
    "Currently, the only function you want to make easily available to users is the convert_unit() function inside the module imperial/length/api.py.\n",
    "\n",
    "In this exercise, you'll write import statements so that the package can be imported and used like this:\n",
    "\n",
    "import impyrial\n",
    "\n",
    "result = impyrial.length.convert_unit(6, 'ft', 'yd')\n",
    "\n",
    "Instructions\n",
    "100XP\n",
    " - In the __init__.py file within impyrial/length, import the convert_unit() function from the api.py module. Use a relative import.\n",
    " - Navigate to the __init__.py file in the top level of the impyrial package and import the length subpackage. Use a relative import.\n",
    " - Run example_script.py to verify that the package imports are correct."
   ]
  },
  {
   "cell_type": "code",
   "execution_count": null,
   "id": "079f0fd6",
   "metadata": {},
   "outputs": [],
   "source": [
    "## __init__.py impyrial\n",
    "\n",
    "# This is the top level __init__.py file\n",
    "\n",
    "# Import the length subpackage\n",
    "from . import lenght"
   ]
  },
  {
   "cell_type": "code",
   "execution_count": null,
   "id": "70f1e8a9",
   "metadata": {},
   "outputs": [],
   "source": [
    "## __init__.py length\n",
    "\n",
    "# This is the __init__.py file for the impyrial/length subpackage\n",
    "\n",
    "# Import the convert_unit function from the api.py module\n",
    "from .api import convert_unit\n",
    "\n"
   ]
  },
  {
   "cell_type": "markdown",
   "id": "b365ba9b",
   "metadata": {},
   "source": [
    "What important progress, you've now got a fully functional package! The first import statement imported convert_unit() into length, and the second one imported length into impyrial. Now users can access key functions of the package easily. In the next chapter you'll build a version you could publish!"
   ]
  },
  {
   "cell_type": "markdown",
   "id": "fd9b4e22",
   "metadata": {},
   "source": [
    "## 2. Install Your Package from Anywhere"
   ]
  },
  {
   "cell_type": "markdown",
   "id": "f0ffb210",
   "metadata": {},
   "source": [
    "Make your package installable for yourself and others. In this chapter, you'll learn to deal with dependencies, write READMEs, and include licenses. You'll also complete all the steps to publish your package on PyPI—the main home of Python packages."
   ]
  },
  {
   "cell_type": "markdown",
   "id": "86ad68f9",
   "metadata": {},
   "source": [
    "### Installing your own package - Video"
   ]
  },
  {
   "cell_type": "markdown",
   "id": "c68b3df6",
   "metadata": {},
   "source": [
    "Adding the setup script\n",
    "The final step before you can install your package is to write the setup.py file.\n",
    "\n",
    "In this exercise, you'll write this file, including all the metadata for your package.\n",
    "\n",
    "P.S. If you look into the impyrial source code, you'll see a new subpackage has been added to convert weights.\n",
    "\n",
    "Instructions\n",
    "100XP\n",
    " - Import the `setup()` and `find_packages()` functions from setuptools.\n",
    " - Fill out the metadata, including your name. Give it the version number 0.1.0 and the description \"A package for converting imperial lengths and weights.\"\n",
    " - Use the `find_packages()` function to include the package and its subpackages."
   ]
  },
  {
   "cell_type": "code",
   "execution_count": null,
   "id": "552395d5",
   "metadata": {},
   "outputs": [],
   "source": []
  }
 ],
 "metadata": {
  "kernelspec": {
   "display_name": "Python 3 (ipykernel)",
   "language": "python",
   "name": "python3"
  },
  "language_info": {
   "codemirror_mode": {
    "name": "ipython",
    "version": 3
   },
   "file_extension": ".py",
   "mimetype": "text/x-python",
   "name": "python",
   "nbconvert_exporter": "python",
   "pygments_lexer": "ipython3",
   "version": "3.8.15"
  }
 },
 "nbformat": 4,
 "nbformat_minor": 5
}
