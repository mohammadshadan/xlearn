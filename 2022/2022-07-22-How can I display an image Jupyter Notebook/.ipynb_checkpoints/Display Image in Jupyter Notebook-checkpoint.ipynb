{
 "cells": [
  {
   "cell_type": "markdown",
   "id": "da8c5a16",
   "metadata": {},
   "source": [
    "## How to Add/Display an Image in Jupyter Notebook"
   ]
  },
  {
   "cell_type": "markdown",
   "id": "78c994b9",
   "metadata": {},
   "source": [
    "- using IPython display (png, jpeg, jpg, can show gif as animation)\n",
    " - `from IPython import display`\n",
    " - `display.Image(\"Mickey_Mouse.png\")`\n",
    "- using PIL Image (doesn't show gif as animation)\n",
    " - `from PIL import Image`\n",
    " - `Image.open(\"Mickey_Mouse.png\")`"
   ]
  },
  {
   "cell_type": "markdown",
   "id": "3474a4c1",
   "metadata": {},
   "source": [
    "### using IPython display"
   ]
  },
  {
   "cell_type": "code",
   "execution_count": 3,
   "id": "b4376329",
   "metadata": {},
   "outputs": [],
   "source": [
    "# Display \"Mickey_Mouse.png\""
   ]
  },
  {
   "cell_type": "code",
   "execution_count": 2,
   "id": "05dbbc3e",
   "metadata": {},
   "outputs": [],
   "source": [
    "# Display \"Convolution_schematic.gif\""
   ]
  },
  {
   "cell_type": "code",
   "execution_count": 1,
   "id": "a25beb56",
   "metadata": {},
   "outputs": [],
   "source": [
    "# Display \"tenor.gif\""
   ]
  },
  {
   "cell_type": "markdown",
   "id": "37fc6797",
   "metadata": {},
   "source": [
    "### using PIL Image"
   ]
  },
  {
   "cell_type": "code",
   "execution_count": 4,
   "id": "070f9ca5",
   "metadata": {},
   "outputs": [],
   "source": [
    "# Display \"Mickey_Mouse.png\""
   ]
  },
  {
   "cell_type": "code",
   "execution_count": 5,
   "id": "14979fde",
   "metadata": {},
   "outputs": [],
   "source": [
    "# Display \"Convolution_schematic.gif\""
   ]
  },
  {
   "cell_type": "code",
   "execution_count": 6,
   "id": "05df2e39",
   "metadata": {},
   "outputs": [],
   "source": [
    "# Display tenor.gif"
   ]
  },
  {
   "cell_type": "markdown",
   "id": "a637ab31",
   "metadata": {},
   "source": [
    "### Summary\n",
    "- using IPython display (png, jpeg, etc., can show gif as animation)\n",
    " - `from IPython import display`\n",
    " - `display.Image(\"Mickey_Mouse.png\")`\n",
    "- using PIL Image (doesn't show gig as animation)\n",
    " - `from PIL import Image`\n",
    " - `Image.open(\"Mickey_Mouse.png\")`"
   ]
  },
  {
   "cell_type": "markdown",
   "id": "ed1f4dcc",
   "metadata": {},
   "source": [
    "Reference:\n",
    "- https://ipython.readthedocs.io/en/stable/api/generated/IPython.display.html\n",
    "- https://www.geeksforgeeks.org/python-pil-image-show-method/\n",
    "- https://ealizadeh.com/blog/3-ways-to-add-images-to-your-jupyter-notebook\n",
    "- https://www.geeksforgeeks.org/how-to-find-width-and-height-of-an-image-using-python"
   ]
  },
  {
   "cell_type": "markdown",
   "id": "e677c4f0",
   "metadata": {},
   "source": [
    "## Thank You"
   ]
  }
 ],
 "metadata": {
  "kernelspec": {
   "display_name": "Python 3 (ipykernel)",
   "language": "python",
   "name": "python3"
  },
  "language_info": {
   "codemirror_mode": {
    "name": "ipython",
    "version": 3
   },
   "file_extension": ".py",
   "mimetype": "text/x-python",
   "name": "python",
   "nbconvert_exporter": "python",
   "pygments_lexer": "ipython3",
   "version": "3.9.7"
  },
  "toc": {
   "base_numbering": 1,
   "nav_menu": {},
   "number_sections": false,
   "sideBar": true,
   "skip_h1_title": false,
   "title_cell": "Table of Contents",
   "title_sidebar": "Contents",
   "toc_cell": false,
   "toc_position": {},
   "toc_section_display": true,
   "toc_window_display": false
  }
 },
 "nbformat": 4,
 "nbformat_minor": 5
}
