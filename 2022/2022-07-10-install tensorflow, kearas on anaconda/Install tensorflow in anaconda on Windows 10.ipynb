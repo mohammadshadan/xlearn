{
 "cells": [
  {
   "cell_type": "markdown",
   "metadata": {},
   "source": [
    "## How to Install Tensorflow in Anaconda on Windows ?"
   ]
  },
  {
   "cell_type": "markdown",
   "metadata": {},
   "source": [
    "### Step 1: Create a new conda environment where we will install our modules to built our models\n",
    "\n",
    "Step 1.1: Open Anaconda Prompt (Run as Administrator)\n",
    "- `conda create --name env_deeplearning` \n",
    "\n",
    "Step 1.2: Activate the conda environment that we just created use\n",
    " - `activate env_deeplearning`\n",
    " \n",
    "### Step 2: Install Tensorflow and other dependencies\n",
    " - `conda install -c conda-forge tensorflow`\n",
    " \n",
    "Install Jupter Notebook \n",
    " - `conda install -c anaconda jupyter`  (very important if you work on Jupyter Notebook)\n",
    " \n",
    "Install other required library as this environment will not have library installed\n",
    " - `conda install -c anaconda pandas`\n",
    " - `conda install -c conda-forge matplotlib`\n",
    " - `conda install -c anaconda scikit-learn`\n",
    " "
   ]
  },
  {
   "cell_type": "markdown",
   "metadata": {},
   "source": [
    "Reference Links:  \n",
    "- https://anaconda.org/conda-forge/tensorflow\n",
    "- https://anaconda.org/anaconda/jupyter\n",
    "- https://anaconda.org/anaconda/pandas\n",
    "- https://anaconda.org/conda-forge/matplotlib\n",
    "- https://anaconda.org/anaconda/scikit-learn\n",
    "    \n",
    "- https://conda.io/projects/conda/en/latest/user-guide/tasks/manage-environments.html\n",
    "- https://www.gcptutorials.com/post/how-to-install-latest-tensorflow-version-using-pip-and-conda"
   ]
  },
  {
   "cell_type": "markdown",
   "metadata": {},
   "source": [
    "Installing specific version of `Python` and `Tensorflow`\n",
    "\n",
    "Using conda:\n",
    "- `conda create --name env_deeplearning python=3.8.5`\n",
    "- `conda install tensorflow==2.5.0`\n",
    "- `conda install -c conda-forge tensorflow==2.5.0`\n",
    "\n",
    "Using pip:\n",
    "- `conda create --name env_deeplearning python=3.8.5`\n",
    "- `pip install tensorflow=2.5.0`\n",
    "- `pip install jupyter`\n"
   ]
  },
  {
   "cell_type": "markdown",
   "metadata": {},
   "source": [
    "For some reason, if you want to completely delete the virtual environment we just created\n",
    " - `conda remove --name env_deeplearning --all`"
   ]
  },
  {
   "cell_type": "markdown",
   "metadata": {},
   "source": [
    "### Testing: MNIST Handwritten Digit Recognition"
   ]
  },
  {
   "cell_type": "code",
   "execution_count": 2,
   "metadata": {},
   "outputs": [
    {
     "name": "stdout",
     "output_type": "stream",
     "text": [
      "Wall time: 0 ns\n"
     ]
    }
   ],
   "source": [
    "%%time\n",
    "import tensorflow as tf\n",
    "from tensorflow import keras"
   ]
  },
  {
   "cell_type": "code",
   "execution_count": 3,
   "metadata": {},
   "outputs": [
    {
     "name": "stdout",
     "output_type": "stream",
     "text": [
      "tensorflow version :  1.14.0\n",
      "keras version :  2.2.4-tf\n"
     ]
    }
   ],
   "source": [
    "print(\"tensorflow version : \", tf.__version__)\n",
    "print(\"keras version : \", keras.__version__)"
   ]
  },
  {
   "cell_type": "code",
   "execution_count": 4,
   "metadata": {},
   "outputs": [],
   "source": [
    "from tensorflow.keras.datasets import mnist\n",
    "from tensorflow.keras.models import Sequential\n",
    "from tensorflow.keras.layers import Dense\n",
    "from tensorflow.keras.layers import Dropout\n",
    "from tensorflow.keras.utils import to_categorical"
   ]
  },
  {
   "cell_type": "code",
   "execution_count": 5,
   "metadata": {},
   "outputs": [],
   "source": [
    "import numpy as np\n",
    "import matplotlib.pyplot as plt"
   ]
  },
  {
   "cell_type": "code",
   "execution_count": 6,
   "metadata": {},
   "outputs": [
    {
     "data": {
      "image/png": "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\n",
      "text/plain": [
       "<Figure size 432x288 with 4 Axes>"
      ]
     },
     "metadata": {
      "needs_background": "light"
     },
     "output_type": "display_data"
    }
   ],
   "source": [
    "# load (downloaded if needed) the MNIST dataset\n",
    "(X_train, y_train), (X_test, y_test) = mnist.load_data()\n",
    "# plot 4 images as gray scale\n",
    "plt.subplot(221)\n",
    "plt.imshow(X_train[0], cmap=plt.get_cmap('gray'))\n",
    "plt.subplot(222)\n",
    "plt.imshow(X_train[1], cmap=plt.get_cmap('gray'))\n",
    "plt.subplot(223)\n",
    "plt.imshow(X_train[2], cmap=plt.get_cmap('gray'))\n",
    "plt.subplot(224)\n",
    "plt.imshow(X_train[3], cmap=plt.get_cmap('gray'))\n",
    "# show the plot\n",
    "plt.show()"
   ]
  },
  {
   "cell_type": "code",
   "execution_count": null,
   "metadata": {},
   "outputs": [],
   "source": [
    "# !conda install matplotlib"
   ]
  },
  {
   "cell_type": "code",
   "execution_count": 7,
   "metadata": {},
   "outputs": [],
   "source": [
    "# fix random seed for reproducibility\n",
    "seed = 0\n",
    "np.random.seed(seed)"
   ]
  },
  {
   "cell_type": "code",
   "execution_count": 8,
   "metadata": {},
   "outputs": [],
   "source": [
    "# load data\n",
    "(X_train, y_train), (X_test, y_test) = mnist.load_data()"
   ]
  },
  {
   "cell_type": "code",
   "execution_count": 9,
   "metadata": {},
   "outputs": [],
   "source": [
    "# flatten 28*28 images to a 784 vector for each image\n",
    "num_pixels = X_train.shape[1] * X_train.shape[2]\n",
    "X_train = X_train.reshape(X_train.shape[0], num_pixels).astype('float32')\n",
    "X_test = X_test.reshape(X_test.shape[0], num_pixels).astype('float32')"
   ]
  },
  {
   "cell_type": "code",
   "execution_count": 10,
   "metadata": {},
   "outputs": [],
   "source": [
    "# normalize inputs from 0-255 to 0-1\n",
    "X_train = X_train / 255\n",
    "X_test = X_test / 255"
   ]
  },
  {
   "cell_type": "code",
   "execution_count": 11,
   "metadata": {},
   "outputs": [
    {
     "data": {
      "text/plain": [
       "array([5, 0, 4, ..., 5, 6, 8], dtype=uint8)"
      ]
     },
     "execution_count": 11,
     "metadata": {},
     "output_type": "execute_result"
    }
   ],
   "source": [
    "y_train"
   ]
  },
  {
   "cell_type": "code",
   "execution_count": 12,
   "metadata": {},
   "outputs": [
    {
     "name": "stdout",
     "output_type": "stream",
     "text": [
      "10\n"
     ]
    }
   ],
   "source": [
    "# one hot encode outputs\n",
    "y_train = to_categorical(y_train)\n",
    "y_test = to_categorical(y_test)\n",
    "num_classes = y_test.shape[1]\n",
    "print(num_classes)"
   ]
  },
  {
   "cell_type": "code",
   "execution_count": 13,
   "metadata": {},
   "outputs": [],
   "source": [
    "# define baseline model\n",
    "def baseline_model():\n",
    "    # create model\n",
    "    model = Sequential()\n",
    "    model.add(Dense(num_pixels, input_dim=num_pixels, kernel_initializer='normal', activation='relu'))\n",
    "    model.add(Dense(num_classes, kernel_initializer='normal', activation='softmax'))\n",
    "    # Compile model\n",
    "    model.compile(loss='categorical_crossentropy', optimizer='adam', metrics=['accuracy'])\n",
    "    return model"
   ]
  },
  {
   "cell_type": "code",
   "execution_count": 14,
   "metadata": {},
   "outputs": [
    {
     "name": "stdout",
     "output_type": "stream",
     "text": [
      "WARNING:tensorflow:From C:\\ProgramData\\Anaconda3\\envs\\env_deeplearning\\lib\\site-packages\\tensorflow\\python\\keras\\initializers.py:143: calling RandomNormal.__init__ (from tensorflow.python.ops.init_ops) with dtype is deprecated and will be removed in a future version.\n",
      "Instructions for updating:\n",
      "Call initializer instance with the dtype argument instead of passing it to the constructor\n",
      "Train on 60000 samples, validate on 10000 samples\n",
      "Epoch 1/10\n",
      "60000/60000 - 3s - loss: 0.2727 - acc: 0.9218 - val_loss: 0.1413 - val_acc: 0.9584\n",
      "Epoch 2/10\n",
      "60000/60000 - 2s - loss: 0.1108 - acc: 0.9685 - val_loss: 0.0916 - val_acc: 0.9721\n",
      "Epoch 3/10\n",
      "60000/60000 - 3s - loss: 0.0715 - acc: 0.9794 - val_loss: 0.0816 - val_acc: 0.9742\n",
      "Epoch 4/10\n",
      "60000/60000 - 3s - loss: 0.0495 - acc: 0.9859 - val_loss: 0.0711 - val_acc: 0.9780\n",
      "Epoch 5/10\n",
      "60000/60000 - 3s - loss: 0.0355 - acc: 0.9903 - val_loss: 0.0656 - val_acc: 0.9808\n",
      "Epoch 6/10\n",
      "60000/60000 - 3s - loss: 0.0268 - acc: 0.9926 - val_loss: 0.0706 - val_acc: 0.9780\n",
      "Epoch 7/10\n",
      "60000/60000 - 3s - loss: 0.0204 - acc: 0.9947 - val_loss: 0.0600 - val_acc: 0.9818\n",
      "Epoch 8/10\n",
      "60000/60000 - 3s - loss: 0.0145 - acc: 0.9966 - val_loss: 0.0584 - val_acc: 0.9829\n",
      "Epoch 9/10\n",
      "60000/60000 - 3s - loss: 0.0102 - acc: 0.9980 - val_loss: 0.0574 - val_acc: 0.9822\n",
      "Epoch 10/10\n",
      "60000/60000 - 3s - loss: 0.0076 - acc: 0.9987 - val_loss: 0.0591 - val_acc: 0.9826\n",
      "Baseline Error: 1.74%\n"
     ]
    }
   ],
   "source": [
    "model = baseline_model()\n",
    "# Fit the model\n",
    "h = model.fit(X_train, y_train, validation_data=(X_test, y_test), epochs=10, batch_size=200, verbose=2)\n",
    "# Final evaluation of the model\n",
    "scores = model.evaluate(X_test, y_test, verbose=0)\n",
    "print(\"Baseline Error: %.2f%%\" % (100-scores[1]*100))"
   ]
  },
  {
   "cell_type": "code",
   "execution_count": 16,
   "metadata": {},
   "outputs": [
    {
     "name": "stdout",
     "output_type": "stream",
     "text": [
      "dict_keys(['loss', 'acc', 'val_loss', 'val_acc'])\n"
     ]
    },
    {
     "data": {
      "image/png": "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\n",
      "text/plain": [
       "<Figure size 432x288 with 1 Axes>"
      ]
     },
     "metadata": {
      "needs_background": "light"
     },
     "output_type": "display_data"
    },
    {
     "data": {
      "image/png": "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\n",
      "text/plain": [
       "<Figure size 432x288 with 1 Axes>"
      ]
     },
     "metadata": {
      "needs_background": "light"
     },
     "output_type": "display_data"
    }
   ],
   "source": [
    "print(h.history.keys())\n",
    "accuracy = h.history['acc']\n",
    "val_accuracy = h.history['val_acc']\n",
    "loss = h.history['loss']\n",
    "val_loss = h.history['val_loss']\n",
    "epochs = range(len(accuracy))\n",
    "plt.plot(epochs, accuracy, 'blue', label='Training accuracy')\n",
    "plt.plot(epochs, val_accuracy, 'orange', label='Validation accuracy')\n",
    "plt.title('Training and validation accuracy')\n",
    "plt.legend()\n",
    "plt.show()\n",
    "plt.figure()\n",
    "plt.plot(epochs, loss, 'blue', label='Training loss')\n",
    "plt.plot(epochs, val_loss, 'orange', label='Validation loss')\n",
    "plt.title('Training and validation loss')\n",
    "plt.legend()\n",
    "plt.show()"
   ]
  },
  {
   "cell_type": "markdown",
   "metadata": {},
   "source": [
    "## Summary"
   ]
  },
  {
   "cell_type": "markdown",
   "metadata": {},
   "source": [
    "- Open Anaconda Prompt as administrator\n",
    "- `conda create --name env_deeplearning`\n",
<<<<<<< Updated upstream
    "- `activate evn_tesnorflow`\n",
=======
    "- `activate env_deeplearning`\n",
>>>>>>> Stashed changes
    "- `conda install -c conda-forge tensorflow`"
   ]
  },
  {
   "cell_type": "markdown",
   "metadata": {},
   "source": [
    "## Thank You"
   ]
  }
 ],
 "metadata": {
  "kernelspec": {
   "display_name": "Python 3 (ipykernel)",
   "language": "python",
   "name": "python3"
  },
  "language_info": {
   "codemirror_mode": {
    "name": "ipython",
    "version": 3
   },
   "file_extension": ".py",
   "mimetype": "text/x-python",
   "name": "python",
   "nbconvert_exporter": "python",
   "pygments_lexer": "ipython3",
   "version": "3.7.13"
  },
  "toc": {
   "base_numbering": 1,
   "nav_menu": {},
   "number_sections": false,
   "sideBar": true,
   "skip_h1_title": false,
   "title_cell": "Table of Contents",
   "title_sidebar": "Contents",
   "toc_cell": false,
   "toc_position": {},
   "toc_section_display": true,
   "toc_window_display": false
  }
 },
 "nbformat": 4,
 "nbformat_minor": 2
}
