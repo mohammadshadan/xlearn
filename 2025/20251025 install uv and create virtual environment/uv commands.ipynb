{
 "cells": [
  {
   "cell_type": "markdown",
   "id": "e7455a90",
   "metadata": {},
   "source": [
    "### Install `uv python package manager`"
   ]
  },
  {
   "cell_type": "markdown",
   "id": "1eb79e36",
   "metadata": {},
   "source": [
    "```powershell\n",
    "powershell -ExecutionPolicy ByPass -c \"irm https://astral.sh/uv/install.ps1 | iex\"\n",
    "```"
   ]
  },
  {
   "cell_type": "markdown",
   "id": "7c88696e",
   "metadata": {},
   "source": [
    "## Check if us is installed correctly"
   ]
  },
  {
   "cell_type": "markdown",
   "id": "0da3a11e",
   "metadata": {},
   "source": [
    "```python\n",
    "uv\n",
    "```"
   ]
  },
  {
   "cell_type": "markdown",
   "id": "73f5f349",
   "metadata": {},
   "source": [
    "### Create a virtual environement"
   ]
  },
  {
   "cell_type": "markdown",
   "id": "a6a1d236",
   "metadata": {
    "vscode": {
     "languageId": "plaintext"
    }
   },
   "source": [
    "```python\n",
    "uv venv\n",
    "```"
   ]
  },
  {
   "cell_type": "markdown",
   "id": "e9cc8fbe",
   "metadata": {},
   "source": [
    "uv venv --name myenv"
   ]
  },
  {
   "cell_type": "markdown",
   "id": "f4a9e011",
   "metadata": {},
   "source": [
    "### Reference :\n",
    "- docs.astral.sh/uv/guides/install-python\n"
   ]
  },
  {
   "cell_type": "markdown",
   "id": "afc2f33a",
   "metadata": {},
   "source": []
  }
 ],
 "metadata": {
  "language_info": {
   "name": "python"
  }
 },
 "nbformat": 4,
 "nbformat_minor": 5
}
