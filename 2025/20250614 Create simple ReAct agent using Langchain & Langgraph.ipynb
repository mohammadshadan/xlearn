{
 "cells": [
  {
   "cell_type": "code",
   "execution_count": null,
   "metadata": {},
   "outputs": [],
   "source": [
    "from langchain_core.tools import tool\n",
    "from langchain_openai import ChatOpenAI\n",
    "from langgraph.prebuilt import create_react_agent\n",
    "import math\n",
    "from langchain_openai.chat_models import ChatOpenAI\n",
    "\n",
    "model = ChatOpenAI(model=\"gpg-4.1-mini\")\n",
    "from langchain_openai.embeddings import OpenAIEmbeddings\n",
    "\n",
    "embeddings = OpenAIEmbeddings()"
   ]
  },
  {
   "cell_type": "code",
   "execution_count": null,
   "metadata": {},
   "outputs": [],
   "source": [
    "@tool\n",
    "def hypotenuse_length(input: str) -> float:\n",
    "    \"\"\"Calculates the length of the hypotenuse of a right-angled triangle given the lengths of the other two sides.\"\"\"\n",
    "    \n",
    "    # Split the input string to get the lengths of the triangle\n",
    "    sides = input.split(',')\n",
    "    \n",
    "    # Convert the input values to floats, removing extra spaces\n",
    "    a = float(sides[0].strip())\n",
    "    b = float(sides[1].strip())\n",
    "    \n",
    "    # Square each of the values, add them together, and find the square root \n",
    "    return math.sqrt(a**2 + b**2)"
   ]
  },
  {
   "cell_type": "code",
   "execution_count": null,
   "metadata": {},
   "outputs": [],
   "source": [
    "@tool\n",
    "def hypotenuse_length_float(a: float, b:float) -> float:\n",
    "    \"\"\"Calculates the length of the hypotenuse of a right-angled triangle given the lengths of the other two sides.\"\"\"\n",
    "    \n",
    "    # # Split the input string to get the lengths of the triangle\n",
    "    # sides = input.split(',')\n",
    "    \n",
    "    # # Convert the input values to floats, removing extra spaces\n",
    "    # a = float(sides[0].strip())\n",
    "    # b = float(sides[1].strip())\n",
    "    \n",
    "    # Square each of the values, add them together, and find the square root \n",
    "    return math.sqrt(a**2 + b**2)"
   ]
  },
  {
   "cell_type": "code",
   "execution_count": null,
   "metadata": {},
   "outputs": [],
   "source": [
    "# Create a list variable and pass in your tool\n",
    "tools = [hypotenuse_length]\n",
    "\n",
    "# Create a query using natural language\n",
    "query = \"What is the hypotenuse length of a triangle with side lengths of 10 and 12?\""
   ]
  }
 ],
 "metadata": {
  "language_info": {
   "name": "python"
  }
 },
 "nbformat": 4,
 "nbformat_minor": 2
}
