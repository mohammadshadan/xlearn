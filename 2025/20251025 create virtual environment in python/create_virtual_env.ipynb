{
 "cells": [
  {
   "cell_type": "markdown",
   "id": "e2b69164",
   "metadata": {},
   "source": [
    "## How to create virtual environment in python in Windows11\n",
    "\n",
    "### Step 1:  Create a folder \n",
    "\n",
    "- For example, a folder named `virtualenv` in D Drive\n",
    "- Move inside the folder (if required), `cd virtualenv`\n",
    "\n",
    "### Step 2 : Run the below command to create virtual environment\n",
    "\n",
    "`python -m venv chatwithcsv2`\n",
    "\n",
    "here chatwithcsv2 is the name of the virtual environment\n",
    "\n",
    "`python -m venv virtual_environment_name`\n",
    "\n",
    "### Step 3 : To activate the virtual environment, run the below command from any folder\n",
    "\n",
    "`source /d/virtualenvs/chatwithcsv2/Scripts/activate`\n",
    "\n",
    "To use the virtual environment you don't need to be in this folder. You can you the environement from any where"
   ]
  },
  {
   "cell_type": "markdown",
   "id": "783e72b9",
   "metadata": {},
   "source": []
  }
 ],
 "metadata": {
  "kernelspec": {
   "display_name": "Python 3",
   "language": "python",
   "name": "python3"
  },
  "language_info": {
   "name": "python",
   "version": "3.12.8"
  }
 },
 "nbformat": 4,
 "nbformat_minor": 5
}
