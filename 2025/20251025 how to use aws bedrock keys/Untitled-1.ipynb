{
 "cells": [
  {
   "cell_type": "code",
   "execution_count": null,
   "id": "d26ee60b",
   "metadata": {},
   "outputs": [],
   "source": [
    "import os\n",
    "os.environ['AWS_BEARER_TOKEN_BEDROCK'] = \"provide the AWS Bedrock Key here\"\n"
   ]
  },
  {
   "cell_type": "code",
   "execution_count": null,
   "id": "87d07f63",
   "metadata": {},
   "outputs": [],
   "source": [
    "\n",
    "import boto3\n",
    "from langchain_aws import ChatBedrockConverse\n",
    "\n",
    "# Initialize Bedrock client\n",
    "bedrock_client = boto3.client(\"bedrock-runtime\", region_name=\"ap-northeast-1\")  # Change region as needed\n",
    "\n",
    "# Create LangChain wrapper for Bedrock model\n",
    "llm = ChatBedrockConverse(\n",
    "    model_id=\"anthropic.claude-3-haiku-20240307-v1:0\",  # Example model\n",
    "    client=bedrock_client,\n",
    "    temperature=0.7,\n",
    "    max_tokens=512\n",
    ")"
   ]
  },
  {
   "cell_type": "code",
   "execution_count": 5,
   "id": "3bb054cc",
   "metadata": {},
   "outputs": [
    {
     "data": {
      "text/plain": [
       "AIMessage(content=\"Here is a haiku about the changing seasons:\\n\\nSeasons shift and turn,\\nLeaves fall, flowers bloom and fade,\\nNature's endless dance.\", additional_kwargs={}, response_metadata={'ResponseMetadata': {'RequestId': '30842f28-d23d-4414-846a-08d7a46f69bf', 'HTTPStatusCode': 200, 'HTTPHeaders': {'date': 'Thu, 23 Oct 2025 12:44:02 GMT', 'content-type': 'application/json', 'content-length': '335', 'connection': 'keep-alive', 'x-amzn-requestid': '30842f28-d23d-4414-846a-08d7a46f69bf'}, 'RetryAttempts': 0}, 'stopReason': 'end_turn', 'metrics': {'latencyMs': [639]}, 'model_provider': 'bedrock_converse', 'model_name': 'anthropic.claude-3-haiku-20240307-v1:0'}, id='lc_run--6947d729-4fbe-4688-a749-b5fa26528940-0', usage_metadata={'input_tokens': 16, 'output_tokens': 36, 'total_tokens': 52, 'input_token_details': {'cache_creation': 0, 'cache_read': 0}})"
      ]
     },
     "execution_count": 5,
     "metadata": {},
     "output_type": "execute_result"
    }
   ],
   "source": [
    "llm.invoke(\"Write a haiku about the changing seasons.\")"
   ]
  },
  {
   "cell_type": "code",
   "execution_count": null,
   "id": "8409408f",
   "metadata": {},
   "outputs": [],
   "source": []
  },
  {
   "cell_type": "code",
   "execution_count": 3,
   "id": "962b0590",
   "metadata": {},
   "outputs": [
    {
     "name": "stdout",
     "output_type": "stream",
     "text": [
      "{'ResponseMetadata': {'RequestId': 'e626f7ca-8974-4bef-93ee-f79c35e76972', 'HTTPStatusCode': 200, 'HTTPHeaders': {'date': 'Thu, 23 Oct 2025 12:41:38 GMT', 'content-type': 'application/json', 'content-length': '1335', 'connection': 'keep-alive', 'x-amzn-requestid': 'e626f7ca-8974-4bef-93ee-f79c35e76972'}, 'RetryAttempts': 0}, 'output': {'message': {'role': 'assistant', 'content': [{'text': \"Here are a few interesting facts:\\n\\n1. The largest known prime number as of 2022 has 23,249,425 digits. It was discovered in January 2021.\\n\\n2. The Mona Lisa has no eyebrows. It was the fashion in Renaissance Florence to shave them off.\\n\\n3. Apples are more effective at waking you up in the morning than coffee. The caffeine in coffee provides a short-term boost, while the natural sugars in apples give a longer-lasting energy lift.\\n\\n4. A dragonfly is one of the fastest insects, able to fly up to 60 mph. They've been around since before the dinosaurs, over 300 million years ago.\\n\\n5. The first product to have a barcode was Wrigley's gum. The barcode system was first used in grocery stores in 1974.\\n\\n6. Fingernails grow nearly 4 times faster than toenails.\\n\\n7. A group of porcupines is called a prickle. This refers to the group of quills or spines they have.\\n\\n8. Bananas are slightly radioactive. They contain small amounts of the isotope potassium-40.\\n\\n9. The king of hearts is the only king without a mustache on a standard playing card.\\n\\nLet me know if you'd like me to share any other interesting facts!\"}]}}, 'stopReason': 'end_turn', 'usage': {'inputTokens': 10, 'outputTokens': 307, 'totalTokens': 317}, 'metrics': {'latencyMs': 4035}}\n"
     ]
    }
   ],
   "source": [
    "print(response)"
   ]
  },
  {
   "cell_type": "code",
   "execution_count": 13,
   "id": "02f520ae",
   "metadata": {},
   "outputs": [
    {
     "ename": "ValidationError",
     "evalue": "1 validation error for ChatBedrockConverse\n  Value error, Could not load credentials to authenticate with AWS client. Please check that the specified profile name and/or its credentials are valid. Service error: You must specify a region. [type=value_error, input_value={'model_id': 'anthropic.c...sable_streaming': False}, input_type=dict]\n    For further information visit https://errors.pydantic.dev/2.12/v/value_error",
     "output_type": "error",
     "traceback": [
      "\u001b[31m---------------------------------------------------------------------------\u001b[39m",
      "\u001b[31mValidationError\u001b[39m                           Traceback (most recent call last)",
      "\u001b[36mCell\u001b[39m\u001b[36m \u001b[39m\u001b[32mIn[13]\u001b[39m\u001b[32m, line 3\u001b[39m\n\u001b[32m      1\u001b[39m \u001b[38;5;28;01mfrom\u001b[39;00m\u001b[38;5;250m \u001b[39m\u001b[34;01mlangchain_aws\u001b[39;00m\u001b[38;5;250m \u001b[39m\u001b[38;5;28;01mimport\u001b[39;00m ChatBedrockConverse\n\u001b[32m----> \u001b[39m\u001b[32m3\u001b[39m model = \u001b[43mChatBedrockConverse\u001b[49m\u001b[43m(\u001b[49m\u001b[43mmodel_id\u001b[49m\u001b[43m=\u001b[49m\u001b[33;43m\"\u001b[39;49m\u001b[33;43manthropic.claude-3-haiku-20240307-v1:0\u001b[39;49m\u001b[33;43m\"\u001b[39;49m\u001b[43m)\u001b[49m\n\u001b[32m      4\u001b[39m model.invoke(\u001b[33m\"\u001b[39m\u001b[33mSing a ballad of LangChain.\u001b[39m\u001b[33m\"\u001b[39m)\n",
      "\u001b[36mFile \u001b[39m\u001b[32md:\\Github\\xlearn\\2025\\20251025 how to use aws bedrock keys\\.venv\\Lib\\site-packages\\langchain_core\\load\\serializable.py:113\u001b[39m, in \u001b[36mSerializable.__init__\u001b[39m\u001b[34m(self, *args, **kwargs)\u001b[39m\n\u001b[32m    111\u001b[39m \u001b[38;5;28;01mdef\u001b[39;00m\u001b[38;5;250m \u001b[39m\u001b[34m__init__\u001b[39m(\u001b[38;5;28mself\u001b[39m, *args: Any, **kwargs: Any) -> \u001b[38;5;28;01mNone\u001b[39;00m:\n\u001b[32m    112\u001b[39m \u001b[38;5;250m    \u001b[39m\u001b[33;03m\"\"\"\"\"\"\u001b[39;00m  \u001b[38;5;66;03m# noqa: D419  # Intentional blank docstring\u001b[39;00m\n\u001b[32m--> \u001b[39m\u001b[32m113\u001b[39m     \u001b[38;5;28;43msuper\u001b[39;49m\u001b[43m(\u001b[49m\u001b[43m)\u001b[49m\u001b[43m.\u001b[49m\u001b[34;43m__init__\u001b[39;49m\u001b[43m(\u001b[49m\u001b[43m*\u001b[49m\u001b[43margs\u001b[49m\u001b[43m,\u001b[49m\u001b[43m \u001b[49m\u001b[43m*\u001b[49m\u001b[43m*\u001b[49m\u001b[43mkwargs\u001b[49m\u001b[43m)\u001b[49m\n",
      "\u001b[36mFile \u001b[39m\u001b[32md:\\Github\\xlearn\\2025\\20251025 how to use aws bedrock keys\\.venv\\Lib\\site-packages\\pydantic\\main.py:250\u001b[39m, in \u001b[36mBaseModel.__init__\u001b[39m\u001b[34m(self, **data)\u001b[39m\n\u001b[32m    248\u001b[39m \u001b[38;5;66;03m# `__tracebackhide__` tells pytest and some other tools to omit this function from tracebacks\u001b[39;00m\n\u001b[32m    249\u001b[39m __tracebackhide__ = \u001b[38;5;28;01mTrue\u001b[39;00m\n\u001b[32m--> \u001b[39m\u001b[32m250\u001b[39m validated_self = \u001b[38;5;28;43mself\u001b[39;49m\u001b[43m.\u001b[49m\u001b[43m__pydantic_validator__\u001b[49m\u001b[43m.\u001b[49m\u001b[43mvalidate_python\u001b[49m\u001b[43m(\u001b[49m\u001b[43mdata\u001b[49m\u001b[43m,\u001b[49m\u001b[43m \u001b[49m\u001b[43mself_instance\u001b[49m\u001b[43m=\u001b[49m\u001b[38;5;28;43mself\u001b[39;49m\u001b[43m)\u001b[49m\n\u001b[32m    251\u001b[39m \u001b[38;5;28;01mif\u001b[39;00m \u001b[38;5;28mself\u001b[39m \u001b[38;5;129;01mis\u001b[39;00m \u001b[38;5;129;01mnot\u001b[39;00m validated_self:\n\u001b[32m    252\u001b[39m     warnings.warn(\n\u001b[32m    253\u001b[39m         \u001b[33m'\u001b[39m\u001b[33mA custom validator is returning a value other than `self`.\u001b[39m\u001b[38;5;130;01m\\n\u001b[39;00m\u001b[33m'\u001b[39m\n\u001b[32m    254\u001b[39m         \u001b[33m\"\u001b[39m\u001b[33mReturning anything other than `self` from a top level model validator isn\u001b[39m\u001b[33m'\u001b[39m\u001b[33mt supported when validating via `__init__`.\u001b[39m\u001b[38;5;130;01m\\n\u001b[39;00m\u001b[33m\"\u001b[39m\n\u001b[32m    255\u001b[39m         \u001b[33m'\u001b[39m\u001b[33mSee the `model_validator` docs (https://docs.pydantic.dev/latest/concepts/validators/#model-validators) for more details.\u001b[39m\u001b[33m'\u001b[39m,\n\u001b[32m    256\u001b[39m         stacklevel=\u001b[32m2\u001b[39m,\n\u001b[32m    257\u001b[39m     )\n",
      "\u001b[31mValidationError\u001b[39m: 1 validation error for ChatBedrockConverse\n  Value error, Could not load credentials to authenticate with AWS client. Please check that the specified profile name and/or its credentials are valid. Service error: You must specify a region. [type=value_error, input_value={'model_id': 'anthropic.c...sable_streaming': False}, input_type=dict]\n    For further information visit https://errors.pydantic.dev/2.12/v/value_error"
     ]
    }
   ],
   "source": [
    "from langchain_aws import ChatBedrockConverse\n",
    "\n",
    "model = ChatBedrockConverse(model_id=\"anthropic.claude-3-haiku-20240307-v1:0\")\n",
    "model.invoke(\"Sing a ballad of LangChain.\")"
   ]
  },
  {
   "cell_type": "code",
   "execution_count": null,
   "id": "fea82756",
   "metadata": {},
   "outputs": [],
   "source": []
  }
 ],
 "metadata": {
  "kernelspec": {
   "display_name": "20251025-how-to-use-aws-bedrock-keys (3.12.8)",
   "language": "python",
   "name": "python3"
  },
  "language_info": {
   "codemirror_mode": {
    "name": "ipython",
    "version": 3
   },
   "file_extension": ".py",
   "mimetype": "text/x-python",
   "name": "python",
   "nbconvert_exporter": "python",
   "pygments_lexer": "ipython3",
   "version": "3.12.8"
  }
 },
 "nbformat": 4,
 "nbformat_minor": 5
}
