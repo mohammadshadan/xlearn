{
 "cells": [
  {
   "cell_type": "markdown",
   "metadata": {},
   "source": [
    "# How to extract `Time` from `Timestamp` using pandas ?"
   ]
  },
  {
   "cell_type": "code",
   "execution_count": 1,
   "metadata": {},
   "outputs": [],
   "source": [
    "import pandas as pd"
   ]
  },
  {
   "cell_type": "markdown",
   "metadata": {},
   "source": [
    "### Creating Scenario\n",
    "I have taken a small sample of [Bike Sharing Dataset](https://www.capitalbikeshare.com/system-data) from Capital Bike Share"
   ]
  },
  {
   "cell_type": "code",
   "execution_count": 11,
   "metadata": {},
   "outputs": [
    {
     "data": {
      "text/html": [
       "<div>\n",
       "<style scoped>\n",
       "    .dataframe tbody tr th:only-of-type {\n",
       "        vertical-align: middle;\n",
       "    }\n",
       "\n",
       "    .dataframe tbody tr th {\n",
       "        vertical-align: top;\n",
       "    }\n",
       "\n",
       "    .dataframe thead th {\n",
       "        text-align: right;\n",
       "    }\n",
       "</style>\n",
       "<table border=\"1\" class=\"dataframe\">\n",
       "  <thead>\n",
       "    <tr style=\"text-align: right;\">\n",
       "      <th></th>\n",
       "      <th>TIME_STAMP</th>\n",
       "    </tr>\n",
       "  </thead>\n",
       "  <tbody>\n",
       "    <tr>\n",
       "      <td>0</td>\n",
       "      <td>2017-10-01 15:23:25</td>\n",
       "    </tr>\n",
       "    <tr>\n",
       "      <td>1</td>\n",
       "      <td>2017-10-09 00:12:58</td>\n",
       "    </tr>\n",
       "    <tr>\n",
       "      <td>2</td>\n",
       "      <td>2017-10-23 19:55:03</td>\n",
       "    </tr>\n",
       "    <tr>\n",
       "      <td>3</td>\n",
       "      <td>2017-11-06 19:24:31</td>\n",
       "    </tr>\n",
       "    <tr>\n",
       "      <td>4</td>\n",
       "      <td>2017-11-26 12:25:49</td>\n",
       "    </tr>\n",
       "    <tr>\n",
       "      <td>5</td>\n",
       "      <td>2017-11-27 18:11:49</td>\n",
       "    </tr>\n",
       "    <tr>\n",
       "      <td>6</td>\n",
       "      <td>2017-12-18 08:02:36</td>\n",
       "    </tr>\n",
       "  </tbody>\n",
       "</table>\n",
       "</div>"
      ],
      "text/plain": [
       "            TIME_STAMP\n",
       "0  2017-10-01 15:23:25\n",
       "1  2017-10-09 00:12:58\n",
       "2  2017-10-23 19:55:03\n",
       "3  2017-11-06 19:24:31\n",
       "4  2017-11-26 12:25:49\n",
       "5  2017-11-27 18:11:49\n",
       "6  2017-12-18 08:02:36"
      ]
     },
     "execution_count": 11,
     "metadata": {},
     "output_type": "execute_result"
    }
   ],
   "source": [
    "df = pd.DataFrame({\"TIME_STAMP\":['2017-10-01 15:23:25', '2017-10-09 00:12:58', '2017-10-23 19:55:03',\n",
    "                                 '2017-11-06 19:24:31', '2017-11-26 12:25:49', '2017-11-27 18:11:49',\n",
    "                                 '2017-12-18 08:02:36']})\n",
    "df"
   ]
  },
  {
   "cell_type": "code",
   "execution_count": 3,
   "metadata": {},
   "outputs": [
    {
     "data": {
      "text/html": [
       "<div>\n",
       "<style scoped>\n",
       "    .dataframe tbody tr th:only-of-type {\n",
       "        vertical-align: middle;\n",
       "    }\n",
       "\n",
       "    .dataframe tbody tr th {\n",
       "        vertical-align: top;\n",
       "    }\n",
       "\n",
       "    .dataframe thead th {\n",
       "        text-align: right;\n",
       "    }\n",
       "</style>\n",
       "<table border=\"1\" class=\"dataframe\">\n",
       "  <thead>\n",
       "    <tr style=\"text-align: right;\">\n",
       "      <th></th>\n",
       "      <th>TIME_STAMP</th>\n",
       "      <th>TIME</th>\n",
       "    </tr>\n",
       "  </thead>\n",
       "  <tbody>\n",
       "    <tr>\n",
       "      <td>0</td>\n",
       "      <td>2017-10-01 15:23:25</td>\n",
       "      <td>15:23:25</td>\n",
       "    </tr>\n",
       "    <tr>\n",
       "      <td>1</td>\n",
       "      <td>2017-10-09 00:12:58</td>\n",
       "      <td>00:12:58</td>\n",
       "    </tr>\n",
       "    <tr>\n",
       "      <td>2</td>\n",
       "      <td>2017-10-23 19:55:03</td>\n",
       "      <td>19:55:03</td>\n",
       "    </tr>\n",
       "    <tr>\n",
       "      <td>3</td>\n",
       "      <td>2017-11-06 19:24:31</td>\n",
       "      <td>19:24:31</td>\n",
       "    </tr>\n",
       "    <tr>\n",
       "      <td>4</td>\n",
       "      <td>2017-11-26 12:25:49</td>\n",
       "      <td>12:25:49</td>\n",
       "    </tr>\n",
       "    <tr>\n",
       "      <td>5</td>\n",
       "      <td>2017-11-27 18:11:49</td>\n",
       "      <td>18:11:49</td>\n",
       "    </tr>\n",
       "    <tr>\n",
       "      <td>6</td>\n",
       "      <td>2017-12-18 08:02:36</td>\n",
       "      <td>08:02:36</td>\n",
       "    </tr>\n",
       "  </tbody>\n",
       "</table>\n",
       "</div>"
      ],
      "text/plain": [
       "           TIME_STAMP      TIME\n",
       "0 2017-10-01 15:23:25  15:23:25\n",
       "1 2017-10-09 00:12:58  00:12:58\n",
       "2 2017-10-23 19:55:03  19:55:03\n",
       "3 2017-11-06 19:24:31  19:24:31\n",
       "4 2017-11-26 12:25:49  12:25:49\n",
       "5 2017-11-27 18:11:49  18:11:49\n",
       "6 2017-12-18 08:02:36  08:02:36"
      ]
     },
     "execution_count": 3,
     "metadata": {},
     "output_type": "execute_result"
    }
   ],
   "source": [
    "## Expected Output\n",
    "df[\"TIME_STAMP\"] = pd.to_datetime(df[\"TIME_STAMP\"])\n",
    "df[\"TIME\"] = df.TIME_STAMP.dt.time\n",
    "df"
   ]
  },
  {
   "cell_type": "markdown",
   "metadata": {},
   "source": [
    "## Method 1 - Using `.dt.time`"
   ]
  },
  {
   "cell_type": "code",
   "execution_count": 4,
   "metadata": {},
   "outputs": [],
   "source": [
    "# Convert time_stamp column to datetime object\n",
    "df[\"TIME_STAMP\"] = pd.to_datetime(df[\"TIME_STAMP\"])"
   ]
  },
  {
   "cell_type": "code",
   "execution_count": 5,
   "metadata": {},
   "outputs": [
    {
     "data": {
      "text/plain": [
       "0    15:23:25\n",
       "1    00:12:58\n",
       "2    19:55:03\n",
       "3    19:24:31\n",
       "4    12:25:49\n",
       "5    18:11:49\n",
       "6    08:02:36\n",
       "Name: TIME_STAMP, dtype: object"
      ]
     },
     "execution_count": 5,
     "metadata": {},
     "output_type": "execute_result"
    }
   ],
   "source": [
    "# Code to extract Date\n",
    "df.TIME_STAMP.dt.time"
   ]
  },
  {
   "cell_type": "code",
   "execution_count": 6,
   "metadata": {},
   "outputs": [
    {
     "data": {
      "text/html": [
       "<div>\n",
       "<style scoped>\n",
       "    .dataframe tbody tr th:only-of-type {\n",
       "        vertical-align: middle;\n",
       "    }\n",
       "\n",
       "    .dataframe tbody tr th {\n",
       "        vertical-align: top;\n",
       "    }\n",
       "\n",
       "    .dataframe thead th {\n",
       "        text-align: right;\n",
       "    }\n",
       "</style>\n",
       "<table border=\"1\" class=\"dataframe\">\n",
       "  <thead>\n",
       "    <tr style=\"text-align: right;\">\n",
       "      <th></th>\n",
       "      <th>TIME_STAMP</th>\n",
       "      <th>TIME</th>\n",
       "    </tr>\n",
       "  </thead>\n",
       "  <tbody>\n",
       "    <tr>\n",
       "      <td>0</td>\n",
       "      <td>2017-10-01 15:23:25</td>\n",
       "      <td>2017-10-01</td>\n",
       "    </tr>\n",
       "    <tr>\n",
       "      <td>1</td>\n",
       "      <td>2017-10-09 00:12:58</td>\n",
       "      <td>2017-10-09</td>\n",
       "    </tr>\n",
       "    <tr>\n",
       "      <td>2</td>\n",
       "      <td>2017-10-23 19:55:03</td>\n",
       "      <td>2017-10-23</td>\n",
       "    </tr>\n",
       "    <tr>\n",
       "      <td>3</td>\n",
       "      <td>2017-11-06 19:24:31</td>\n",
       "      <td>2017-11-06</td>\n",
       "    </tr>\n",
       "    <tr>\n",
       "      <td>4</td>\n",
       "      <td>2017-11-26 12:25:49</td>\n",
       "      <td>2017-11-26</td>\n",
       "    </tr>\n",
       "    <tr>\n",
       "      <td>5</td>\n",
       "      <td>2017-11-27 18:11:49</td>\n",
       "      <td>2017-11-27</td>\n",
       "    </tr>\n",
       "    <tr>\n",
       "      <td>6</td>\n",
       "      <td>2017-12-18 08:02:36</td>\n",
       "      <td>2017-12-18</td>\n",
       "    </tr>\n",
       "  </tbody>\n",
       "</table>\n",
       "</div>"
      ],
      "text/plain": [
       "           TIME_STAMP        TIME\n",
       "0 2017-10-01 15:23:25  2017-10-01\n",
       "1 2017-10-09 00:12:58  2017-10-09\n",
       "2 2017-10-23 19:55:03  2017-10-23\n",
       "3 2017-11-06 19:24:31  2017-11-06\n",
       "4 2017-11-26 12:25:49  2017-11-26\n",
       "5 2017-11-27 18:11:49  2017-11-27\n",
       "6 2017-12-18 08:02:36  2017-12-18"
      ]
     },
     "execution_count": 6,
     "metadata": {},
     "output_type": "execute_result"
    }
   ],
   "source": [
    "df[\"TIME\"] = df[\"TIME_STAMP\"].dt.date\n",
    "df"
   ]
  },
  {
   "cell_type": "markdown",
   "metadata": {},
   "source": [
    "## Method 2 - Using `.dt.strftime()`"
   ]
  },
  {
   "cell_type": "code",
   "execution_count": 13,
   "metadata": {},
   "outputs": [
    {
     "data": {
      "text/html": [
       "<div>\n",
       "<style scoped>\n",
       "    .dataframe tbody tr th:only-of-type {\n",
       "        vertical-align: middle;\n",
       "    }\n",
       "\n",
       "    .dataframe tbody tr th {\n",
       "        vertical-align: top;\n",
       "    }\n",
       "\n",
       "    .dataframe thead th {\n",
       "        text-align: right;\n",
       "    }\n",
       "</style>\n",
       "<table border=\"1\" class=\"dataframe\">\n",
       "  <thead>\n",
       "    <tr style=\"text-align: right;\">\n",
       "      <th></th>\n",
       "      <th>TIME_STAMP</th>\n",
       "    </tr>\n",
       "  </thead>\n",
       "  <tbody>\n",
       "    <tr>\n",
       "      <td>0</td>\n",
       "      <td>2017-10-01 15:23:25</td>\n",
       "    </tr>\n",
       "    <tr>\n",
       "      <td>1</td>\n",
       "      <td>2017-10-09 00:12:58</td>\n",
       "    </tr>\n",
       "    <tr>\n",
       "      <td>2</td>\n",
       "      <td>2017-10-23 19:55:03</td>\n",
       "    </tr>\n",
       "    <tr>\n",
       "      <td>3</td>\n",
       "      <td>2017-11-06 19:24:31</td>\n",
       "    </tr>\n",
       "    <tr>\n",
       "      <td>4</td>\n",
       "      <td>2017-11-26 12:25:49</td>\n",
       "    </tr>\n",
       "    <tr>\n",
       "      <td>5</td>\n",
       "      <td>2017-11-27 18:11:49</td>\n",
       "    </tr>\n",
       "    <tr>\n",
       "      <td>6</td>\n",
       "      <td>2017-12-18 08:02:36</td>\n",
       "    </tr>\n",
       "  </tbody>\n",
       "</table>\n",
       "</div>"
      ],
      "text/plain": [
       "            TIME_STAMP\n",
       "0  2017-10-01 15:23:25\n",
       "1  2017-10-09 00:12:58\n",
       "2  2017-10-23 19:55:03\n",
       "3  2017-11-06 19:24:31\n",
       "4  2017-11-26 12:25:49\n",
       "5  2017-11-27 18:11:49\n",
       "6  2017-12-18 08:02:36"
      ]
     },
     "execution_count": 13,
     "metadata": {},
     "output_type": "execute_result"
    }
   ],
   "source": [
    "df = pd.DataFrame({\"TIME_STAMP\":['2017-10-01 15:23:25', '2017-10-09 00:12:58', '2017-10-23 19:55:03',\n",
    "                                 '2017-11-06 19:24:31', '2017-11-26 12:25:49', '2017-11-27 18:11:49',\n",
    "                                 '2017-12-18 08:02:36']})\n",
    "df"
   ]
  },
  {
   "cell_type": "code",
   "execution_count": 14,
   "metadata": {},
   "outputs": [],
   "source": [
    "# Convert time_stamp column to datetime object\n",
    "df[\"TIME_STAMP\"] = pd.to_datetime(df[\"TIME_STAMP\"])"
   ]
  },
  {
   "cell_type": "markdown",
   "metadata": {},
   "source": [
    "### Directive"
   ]
  },
  {
   "cell_type": "markdown",
   "metadata": {},
   "source": [
    "Directive\n",
    " - `%H` : Hour (24-hour clock) as a decimal number [00,23]\n",
    " - `%I` : Hour (12-hour clock) as a decimal number [01,12]\n",
    " - `%M` : Minute as a decimal number [00,59]\n",
    " - `%S` : Second as a decimal number [00,61]\n",
    " \n",
    "[pandas.Period.strftime](https://pandas.pydata.org/pandas-docs/stable/reference/api/pandas.Period.strftime.html) "
   ]
  },
  {
   "cell_type": "code",
   "execution_count": 19,
   "metadata": {},
   "outputs": [
    {
     "data": {
      "text/plain": [
       "0    15-23-25\n",
       "1    00-12-58\n",
       "2    19-55-03\n",
       "3    19-24-31\n",
       "4    12-25-49\n",
       "5    18-11-49\n",
       "6    08-02-36\n",
       "Name: TIME_STAMP, dtype: object"
      ]
     },
     "execution_count": 19,
     "metadata": {},
     "output_type": "execute_result"
    }
   ],
   "source": [
    "df[\"TIME_STAMP\"].dt.strftime(\"%H-%M-%S\")  #\"%Y-%d-%S\"  "
   ]
  },
  {
   "cell_type": "code",
   "execution_count": 16,
   "metadata": {},
   "outputs": [
    {
     "data": {
      "text/html": [
       "<div>\n",
       "<style scoped>\n",
       "    .dataframe tbody tr th:only-of-type {\n",
       "        vertical-align: middle;\n",
       "    }\n",
       "\n",
       "    .dataframe tbody tr th {\n",
       "        vertical-align: top;\n",
       "    }\n",
       "\n",
       "    .dataframe thead th {\n",
       "        text-align: right;\n",
       "    }\n",
       "</style>\n",
       "<table border=\"1\" class=\"dataframe\">\n",
       "  <thead>\n",
       "    <tr style=\"text-align: right;\">\n",
       "      <th></th>\n",
       "      <th>TIME_STAMP</th>\n",
       "      <th>TIME</th>\n",
       "    </tr>\n",
       "  </thead>\n",
       "  <tbody>\n",
       "    <tr>\n",
       "      <td>0</td>\n",
       "      <td>2017-10-01 15:23:25</td>\n",
       "      <td>15-23-25</td>\n",
       "    </tr>\n",
       "    <tr>\n",
       "      <td>1</td>\n",
       "      <td>2017-10-09 00:12:58</td>\n",
       "      <td>00-12-58</td>\n",
       "    </tr>\n",
       "    <tr>\n",
       "      <td>2</td>\n",
       "      <td>2017-10-23 19:55:03</td>\n",
       "      <td>19-55-03</td>\n",
       "    </tr>\n",
       "    <tr>\n",
       "      <td>3</td>\n",
       "      <td>2017-11-06 19:24:31</td>\n",
       "      <td>19-24-31</td>\n",
       "    </tr>\n",
       "    <tr>\n",
       "      <td>4</td>\n",
       "      <td>2017-11-26 12:25:49</td>\n",
       "      <td>12-25-49</td>\n",
       "    </tr>\n",
       "    <tr>\n",
       "      <td>5</td>\n",
       "      <td>2017-11-27 18:11:49</td>\n",
       "      <td>18-11-49</td>\n",
       "    </tr>\n",
       "    <tr>\n",
       "      <td>6</td>\n",
       "      <td>2017-12-18 08:02:36</td>\n",
       "      <td>08-02-36</td>\n",
       "    </tr>\n",
       "  </tbody>\n",
       "</table>\n",
       "</div>"
      ],
      "text/plain": [
       "           TIME_STAMP      TIME\n",
       "0 2017-10-01 15:23:25  15-23-25\n",
       "1 2017-10-09 00:12:58  00-12-58\n",
       "2 2017-10-23 19:55:03  19-55-03\n",
       "3 2017-11-06 19:24:31  19-24-31\n",
       "4 2017-11-26 12:25:49  12-25-49\n",
       "5 2017-11-27 18:11:49  18-11-49\n",
       "6 2017-12-18 08:02:36  08-02-36"
      ]
     },
     "execution_count": 16,
     "metadata": {},
     "output_type": "execute_result"
    }
   ],
   "source": [
    "df[\"TIME\"] = df[\"TIME_STAMP\"].dt.strftime(\"%H-%M-%S\")\n",
    "df"
   ]
  },
  {
   "cell_type": "markdown",
   "metadata": {},
   "source": [
    "## Extract Hour in 12 Hour Clock (`%I-%M-%S`)"
   ]
  },
  {
   "cell_type": "code",
   "execution_count": 17,
   "metadata": {},
   "outputs": [
    {
     "data": {
      "text/html": [
       "<div>\n",
       "<style scoped>\n",
       "    .dataframe tbody tr th:only-of-type {\n",
       "        vertical-align: middle;\n",
       "    }\n",
       "\n",
       "    .dataframe tbody tr th {\n",
       "        vertical-align: top;\n",
       "    }\n",
       "\n",
       "    .dataframe thead th {\n",
       "        text-align: right;\n",
       "    }\n",
       "</style>\n",
       "<table border=\"1\" class=\"dataframe\">\n",
       "  <thead>\n",
       "    <tr style=\"text-align: right;\">\n",
       "      <th></th>\n",
       "      <th>TIME_STAMP</th>\n",
       "      <th>TIME</th>\n",
       "    </tr>\n",
       "  </thead>\n",
       "  <tbody>\n",
       "    <tr>\n",
       "      <td>0</td>\n",
       "      <td>2017-10-01 15:23:25</td>\n",
       "      <td>03-23-25</td>\n",
       "    </tr>\n",
       "    <tr>\n",
       "      <td>1</td>\n",
       "      <td>2017-10-09 00:12:58</td>\n",
       "      <td>12-12-58</td>\n",
       "    </tr>\n",
       "    <tr>\n",
       "      <td>2</td>\n",
       "      <td>2017-10-23 19:55:03</td>\n",
       "      <td>07-55-03</td>\n",
       "    </tr>\n",
       "    <tr>\n",
       "      <td>3</td>\n",
       "      <td>2017-11-06 19:24:31</td>\n",
       "      <td>07-24-31</td>\n",
       "    </tr>\n",
       "    <tr>\n",
       "      <td>4</td>\n",
       "      <td>2017-11-26 12:25:49</td>\n",
       "      <td>12-25-49</td>\n",
       "    </tr>\n",
       "    <tr>\n",
       "      <td>5</td>\n",
       "      <td>2017-11-27 18:11:49</td>\n",
       "      <td>06-11-49</td>\n",
       "    </tr>\n",
       "    <tr>\n",
       "      <td>6</td>\n",
       "      <td>2017-12-18 08:02:36</td>\n",
       "      <td>08-02-36</td>\n",
       "    </tr>\n",
       "  </tbody>\n",
       "</table>\n",
       "</div>"
      ],
      "text/plain": [
       "           TIME_STAMP      TIME\n",
       "0 2017-10-01 15:23:25  03-23-25\n",
       "1 2017-10-09 00:12:58  12-12-58\n",
       "2 2017-10-23 19:55:03  07-55-03\n",
       "3 2017-11-06 19:24:31  07-24-31\n",
       "4 2017-11-26 12:25:49  12-25-49\n",
       "5 2017-11-27 18:11:49  06-11-49\n",
       "6 2017-12-18 08:02:36  08-02-36"
      ]
     },
     "execution_count": 17,
     "metadata": {},
     "output_type": "execute_result"
    }
   ],
   "source": [
    "df[\"TIME\"] = df[\"TIME_STAMP\"].dt.strftime(\"%I-%M-%S\")\n",
    "df"
   ]
  },
  {
   "cell_type": "markdown",
   "metadata": {},
   "source": [
    "## Extract on Minute-Second(`%M-%S`) Information"
   ]
  },
  {
   "cell_type": "code",
   "execution_count": 22,
   "metadata": {},
   "outputs": [
    {
     "data": {
      "text/html": [
       "<div>\n",
       "<style scoped>\n",
       "    .dataframe tbody tr th:only-of-type {\n",
       "        vertical-align: middle;\n",
       "    }\n",
       "\n",
       "    .dataframe tbody tr th {\n",
       "        vertical-align: top;\n",
       "    }\n",
       "\n",
       "    .dataframe thead th {\n",
       "        text-align: right;\n",
       "    }\n",
       "</style>\n",
       "<table border=\"1\" class=\"dataframe\">\n",
       "  <thead>\n",
       "    <tr style=\"text-align: right;\">\n",
       "      <th></th>\n",
       "      <th>TIME_STAMP</th>\n",
       "      <th>TIME</th>\n",
       "      <th>MM-SS</th>\n",
       "      <th>MINUTE-SECOND</th>\n",
       "    </tr>\n",
       "  </thead>\n",
       "  <tbody>\n",
       "    <tr>\n",
       "      <td>0</td>\n",
       "      <td>2017-10-01 15:23:25</td>\n",
       "      <td>23-25</td>\n",
       "      <td>23-25</td>\n",
       "      <td>23-25</td>\n",
       "    </tr>\n",
       "    <tr>\n",
       "      <td>1</td>\n",
       "      <td>2017-10-09 00:12:58</td>\n",
       "      <td>12-58</td>\n",
       "      <td>12-58</td>\n",
       "      <td>12-58</td>\n",
       "    </tr>\n",
       "    <tr>\n",
       "      <td>2</td>\n",
       "      <td>2017-10-23 19:55:03</td>\n",
       "      <td>55-03</td>\n",
       "      <td>55-03</td>\n",
       "      <td>55-03</td>\n",
       "    </tr>\n",
       "    <tr>\n",
       "      <td>3</td>\n",
       "      <td>2017-11-06 19:24:31</td>\n",
       "      <td>24-31</td>\n",
       "      <td>24-31</td>\n",
       "      <td>24-31</td>\n",
       "    </tr>\n",
       "    <tr>\n",
       "      <td>4</td>\n",
       "      <td>2017-11-26 12:25:49</td>\n",
       "      <td>25-49</td>\n",
       "      <td>25-49</td>\n",
       "      <td>25-49</td>\n",
       "    </tr>\n",
       "    <tr>\n",
       "      <td>5</td>\n",
       "      <td>2017-11-27 18:11:49</td>\n",
       "      <td>11-49</td>\n",
       "      <td>11-49</td>\n",
       "      <td>11-49</td>\n",
       "    </tr>\n",
       "    <tr>\n",
       "      <td>6</td>\n",
       "      <td>2017-12-18 08:02:36</td>\n",
       "      <td>02-36</td>\n",
       "      <td>02-36</td>\n",
       "      <td>02-36</td>\n",
       "    </tr>\n",
       "  </tbody>\n",
       "</table>\n",
       "</div>"
      ],
      "text/plain": [
       "           TIME_STAMP   TIME  MM-SS MINUTE-SECOND\n",
       "0 2017-10-01 15:23:25  23-25  23-25         23-25\n",
       "1 2017-10-09 00:12:58  12-58  12-58         12-58\n",
       "2 2017-10-23 19:55:03  55-03  55-03         55-03\n",
       "3 2017-11-06 19:24:31  24-31  24-31         24-31\n",
       "4 2017-11-26 12:25:49  25-49  25-49         25-49\n",
       "5 2017-11-27 18:11:49  11-49  11-49         11-49\n",
       "6 2017-12-18 08:02:36  02-36  02-36         02-36"
      ]
     },
     "execution_count": 22,
     "metadata": {},
     "output_type": "execute_result"
    }
   ],
   "source": [
    "df[\"MINUTE-SECOND\"] = df[\"TIME_STAMP\"].dt.strftime(\"%M-%S\")\n",
    "df"
   ]
  },
  {
   "cell_type": "markdown",
   "metadata": {},
   "source": [
    "## Summary\n",
    " - Convert timestamp column to datetime object using pd.to_datetime\n",
    " - series.dt.time\n",
    " - series.dt.strftime(\"%H-%M-%S\")\n",
    " - series.dt.strftime(\"%I-%M-%S\")\n",
    " - series.dt.strftime(\"%M-%S\")"
   ]
  },
  {
   "cell_type": "code",
   "execution_count": null,
   "metadata": {},
   "outputs": [],
   "source": []
  }
 ],
 "metadata": {
  "kernelspec": {
   "display_name": "Python 3",
   "language": "python",
   "name": "python3"
  },
  "language_info": {
   "codemirror_mode": {
    "name": "ipython",
    "version": 3
   },
   "file_extension": ".py",
   "mimetype": "text/x-python",
   "name": "python",
   "nbconvert_exporter": "python",
   "pygments_lexer": "ipython3",
   "version": "3.7.4"
  },
  "toc": {
   "base_numbering": 1,
   "nav_menu": {},
   "number_sections": false,
   "sideBar": true,
   "skip_h1_title": false,
   "title_cell": "Table of Contents",
   "title_sidebar": "Contents",
   "toc_cell": false,
   "toc_position": {},
   "toc_section_display": true,
   "toc_window_display": false
  }
 },
 "nbformat": 4,
 "nbformat_minor": 2
}
